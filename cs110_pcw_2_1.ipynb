{
 "cells": [
  {
   "cell_type": "markdown",
   "metadata": {},
   "source": [
    "Before you turn this problem in, make sure everything runs as expected. First, **restart the kernel** (in the menubar, select Kernel$\\rightarrow$Restart) and then **run all cells** (in the menubar, select Cell$\\rightarrow$Run All).\n",
    "\n",
    "Make sure you fill in any place that says `YOUR CODE HERE` or \"YOUR ANSWER HERE\", as well as your name and collaborators below:"
   ]
  },
  {
   "cell_type": "code",
   "execution_count": 1,
   "metadata": {},
   "outputs": [],
   "source": [
    "NAME = \" Ahmed\"\n",
    "COLLABORATORS = \"\""
   ]
  },
  {
   "cell_type": "markdown",
   "metadata": {},
   "source": [
    "---"
   ]
  },
  {
   "cell_type": "markdown",
   "metadata": {
    "deletable": false,
    "editable": false,
    "nbgrader": {
     "checksum": "4394bdd5d17d8ce7ce4e758066ee0266",
     "grade": false,
     "grade_id": "cell-9e44910e5a73668d",
     "locked": true,
     "schema_version": 1,
     "solution": false
    }
   },
   "source": [
    "# CS110 Pre-class Work 2.1\n",
    "\n",
    "## Question 1.\n",
    "\n",
    "First, please read carefully [this note](https://drive.google.com/open?id=1SfrRTKWDb6szsJENgvNF7-u2B96ecaF2) which reviews the MERGE operation in Cormen et al.\n",
    "\n",
    "After reviewing the example above (Cormen et. al., Figure 2.3),  you need to manually create similar illustrations as in the example above but this time for the input array:\n",
    "\n",
    "![array](array.png)\n",
    "\n",
    "For this exercise, assume that the call to the algorithm is MERGE(A, 1, 3, 6) and draw different resulting stages of the arrays A, L, and R as the merge algorithm is executed.  You can hand-draw or use any drawing tool to produce panel illustrations as in the example above.  Include your final drawings in the cell below. Feel free to use additional cells (Markdown or Code) for this question.\n"
   ]
  },
  {
   "cell_type": "markdown",
   "metadata": {
    "deletable": false,
    "nbgrader": {
     "checksum": "b4d0caf51fb6b587f68db4e806af35d0",
     "grade": true,
     "grade_id": "cell-badbff7790708987",
     "locked": false,
     "points": 0,
     "schema_version": 1,
     "solution": true
    }
   },
   "source": []
  },
  {
   "cell_type": "markdown",
   "metadata": {},
   "source": [
    "![sort](Q1-1.jpg)"
   ]
  },
  {
   "cell_type": "markdown",
   "metadata": {},
   "source": [
    "![sort2](Q1-2.jpg) "
   ]
  },
  {
   "cell_type": "markdown",
   "metadata": {
    "deletable": false,
    "editable": false,
    "nbgrader": {
     "checksum": "7c9608898d23ecbe07c084ca6d6da655",
     "grade": false,
     "grade_id": "cell-6dd1317d1ea8ab9f",
     "locked": true,
     "schema_version": 1,
     "solution": false
    }
   },
   "source": [
    "## Question 2.\n",
    "Now using your understanding of Part I of the merge algorithm, can you think of an efficient way to implement this part in Python? (hint: using Python list). Give your answer in prose in the cell below."
   ]
  },
  {
   "cell_type": "markdown",
   "metadata": {
    "deletable": false,
    "nbgrader": {
     "checksum": "9bf35550640c33f366c5cffad7fdf33a",
     "grade": true,
     "grade_id": "cell-4f961721620a6645",
     "locked": false,
     "points": 0,
     "schema_version": 1,
     "solution": true
    }
   },
   "source": [
    "\"\"\"\n",
    "First\n",
    "I think the most important part in implementing the pseudocode in python is to understand the characteristics of python and how it might be different than other languages. In python, the lists start at 0 which mean that we need to modify the pseudocode to reflect that. Also, we need to understand how the range function work and how can we iterate considering that the for loop stops before the last number in range(len(list)). \n",
    "\n",
    "Second\n",
    "I am thinking instead of building two empty lists and then copy the list items in them (using the two for loops). We can just split the original A list into two lists based on the parameters. \n",
    "something like : (A, p, q, r) -> A[p,q+1] A[q,r+1]\n",
    "\n",
    "Third\n",
    "To apply the sentinel card concept in python, it will be hard to define infinity. (I tried to use float(\"inf\") to represent infinity, but it doesn't work the same way it was described in the pseudocode. \n",
    "Instead, we can write \"while loops\" to check that we didn't leave any number behind in the right and left lists.\n",
    "\"\"\""
   ]
  },
  {
   "cell_type": "markdown",
   "metadata": {
    "deletable": false,
    "editable": false,
    "nbgrader": {
     "checksum": "010584ea3a4f00fba43b52bb04cd0ed2",
     "grade": false,
     "grade_id": "cell-84932c7c0c20b750",
     "locked": true,
     "schema_version": 1,
     "solution": false
    }
   },
   "source": [
    "## Question 3.\n",
    "\n",
    "Write a Python implementation of the merge pseudocode (both parts), your Python function must take the same four input arguments as described in the $MERGE(A,p,q,r)$. Test your code by running the example in problem 1 and 2 of this pre-class work. Feel free to come up with additional cases to check if your code is working properly. Your code should return A "
   ]
  },
  {
   "cell_type": "code",
   "execution_count": 52,
   "metadata": {
    "deletable": false,
    "nbgrader": {
     "checksum": "43760e27d0b385c30476353b3d546a79",
     "grade": false,
     "grade_id": "cell-a67719d65c1ac9f3",
     "locked": false,
     "schema_version": 1,
     "solution": true
    }
   },
   "outputs": [
    {
     "name": "stdout",
     "output_type": "stream",
     "text": [
      "[5, 1, 2, 2, 3, 4, 5, 6, 7, 8]\n",
      "[1, 2, 4, 6, 6, 7, 8, 9]\n"
     ]
    }
   ],
   "source": [
    "def merge(A, p, q, r):\n",
    "    \n",
    "    #defining the length of each sub-list\n",
    "    n1 = q-p+1\n",
    "    n2 = r-q\n",
    "    \n",
    "    #defining new arrays\n",
    "    L=[0]* n1\n",
    "    R=[0]* n2\n",
    "    \n",
    "    #splitting the orginal set into two lists \n",
    "    #we can also use append to fill the empty sets as the orginal set already had two odered parts, but this would be a different method than the one in the book\n",
    "    for i in range(n1):\n",
    "        L[i]= A[p+i]\n",
    "        \n",
    "    for j in range(n2):\n",
    "        R[j]= A[q+j+1]   # I added the one here to make sure that the right list will start with the item after q till r\n",
    "\n",
    "     \n",
    "       \n",
    "    i= 0\n",
    "    j= 0\n",
    "    k= p\n",
    "    \n",
    "    #I suggested using while instead of for as this will make it easir for the iterations\n",
    "    \n",
    "    while i < len(L) and j < len(R): \n",
    "        if L[i] < R[j]: \n",
    "            A[k] = L[i] \n",
    "            i+=1\n",
    "        else: \n",
    "            A[k] = R[j] \n",
    "            j+=1\n",
    "        k+=1\n",
    "        \n",
    "    while i < n1: \n",
    "        A[k] = L[i] \n",
    "        i += 1\n",
    "        k += 1\n",
    "        \n",
    "    while j < n2: \n",
    "        A[k] = R[j] \n",
    "        j += 1\n",
    "        k += 1\n",
    "        \n",
    "    return (A)\n",
    "    raise NotImplementedError()\n",
    "    \n",
    "    \n",
    "\"\"\"\n",
    "Another way of solving it: \n",
    "    # Here I will arrange all the list except the maximum number as the range is r. \n",
    "    \n",
    "    for k in range (p,r):\n",
    "        if L[i] <= R[j]:\n",
    "            A[k]=L[i]\n",
    "            i =i+1\n",
    "        else:\n",
    "            A[k]=R[j]\n",
    "            j=j+1\n",
    "    \n",
    "    #Here I increased the index of k to take all the \n",
    "    k +=1\n",
    "    \n",
    "    while i < n1: \n",
    "        A[k] = L[i] \n",
    "        i += 1\n",
    "        k += 1\n",
    "        \n",
    "    while j < n2: \n",
    "        A[k] = R[j] \n",
    "        j += 1\n",
    "        k += 1\n",
    "\"\"\"    \n",
    "\n",
    "    \n",
    "    \n",
    "\n",
    "\n",
    "#Testing the function with the provided examples \n",
    "Ex1 = [5,2,4,5,7,1,2,3,6,8]\n",
    "Ex2 = [2,6,7,8,1,4,6,9]\n",
    "\n",
    "print (merge(Ex1, 1, 4,8))\n",
    "print (merge(Ex2, 0, 3,7))\n"
   ]
  },
  {
   "cell_type": "code",
   "execution_count": 3,
   "metadata": {
    "deletable": false,
    "editable": false,
    "nbgrader": {
     "checksum": "699908274975a6bff4f9fb021e666ce4",
     "grade": true,
     "grade_id": "cell-e98759fe14428af0",
     "locked": true,
     "points": 0,
     "schema_version": 1,
     "solution": false
    }
   },
   "outputs": [],
   "source": [
    "# Please ignore this cell. This cell is for us to implement the tests \n",
    "# to see if your code works properly. "
   ]
  },
  {
   "cell_type": "code",
   "execution_count": null,
   "metadata": {},
   "outputs": [],
   "source": []
  },
  {
   "cell_type": "markdown",
   "metadata": {
    "deletable": false,
    "editable": false,
    "nbgrader": {
     "checksum": "35e241fec3dd026733d04a51fa2972fe",
     "grade": false,
     "grade_id": "cell-49f3f61ee6d72bb9",
     "locked": true,
     "schema_version": 1,
     "solution": false
    }
   },
   "source": [
    "## Question 2\n",
    "Suppose that your Python implementation of the merge algorithm is already working. Inspect the code for merge sort below:"
   ]
  },
  {
   "cell_type": "code",
   "execution_count": 4,
   "metadata": {
    "deletable": false,
    "editable": false,
    "nbgrader": {
     "checksum": "53611abb1448334a346783091382fb12",
     "grade": false,
     "grade_id": "cell-073a21c6aac8225e",
     "locked": true,
     "schema_version": 1,
     "solution": false
    }
   },
   "outputs": [],
   "source": [
    "def merge_sort(A,p,r):\n",
    "    if p < r:\n",
    "        q = (p+r)/2\n",
    "        merge_sort(A,p,q)\n",
    "        merge_sort(A,q+1,r)\n",
    "        merge(A,p,q,r)\n",
    "    return(A)"
   ]
  },
  {
   "cell_type": "markdown",
   "metadata": {
    "deletable": false,
    "editable": false,
    "nbgrader": {
     "checksum": "b708edb1e6e70731f3ec68d1d11c2890",
     "grade": false,
     "grade_id": "cell-c19a4320995e15b2",
     "locked": true,
     "schema_version": 1,
     "solution": false
    }
   },
   "source": [
    "Copy and paste the code above to the cell below and fix the bug in it. "
   ]
  },
  {
   "cell_type": "code",
   "execution_count": 59,
   "metadata": {
    "deletable": false,
    "nbgrader": {
     "checksum": "d52aee435812fe91886c6dcdfc4e3f6d",
     "grade": false,
     "grade_id": "cell-311695db35c06d65",
     "locked": false,
     "schema_version": 1,
     "solution": true
    }
   },
   "outputs": [
    {
     "name": "stdout",
     "output_type": "stream",
     "text": [
      "([1, 2, 4, 6, 6, 7, 8, 9], 1)\n"
     ]
    }
   ],
   "source": [
    "def merge_sort(A,p,r):\n",
    "    # YOUR CODE HERE\n",
    "    count =0\n",
    "    if p < r:\n",
    "        count +=1\n",
    "        q = (p+r)//2     \n",
    "        #the bug is here as for some values here q will be a float number not an integer which has no meaning as an index.\n",
    "        #thus, I replaced the devision sign with with a floor devision sign to always give us the nearst smallest integer \n",
    "        merge_sort(A,p,q)\n",
    "        merge_sort(A,q+1,r)\n",
    "        merge(A,p,q,r)\n",
    "    return(A,count)\n",
    "    \n",
    "    raise NotImplementedError()\n",
    "    \n",
    "print (merge_sort(Ex2, 0, 7))"
   ]
  },
  {
   "cell_type": "code",
   "execution_count": 6,
   "metadata": {
    "deletable": false,
    "editable": false,
    "nbgrader": {
     "checksum": "35fbb3c437b3ba39ede0d87d6719223b",
     "grade": true,
     "grade_id": "cell-a3a71f67390c1f82",
     "locked": true,
     "points": 0,
     "schema_version": 1,
     "solution": false
    }
   },
   "outputs": [],
   "source": [
    "# Please ignore this cell. This cell is for us to implement the tests \n",
    "# to see if your code works properly. "
   ]
  },
  {
   "cell_type": "markdown",
   "metadata": {
    "deletable": false,
    "editable": false,
    "nbgrader": {
     "checksum": "61cfba995efe3c9c37092a650047fdf3",
     "grade": false,
     "grade_id": "cell-5b296f793fefdbfe",
     "locked": true,
     "schema_version": 1,
     "solution": false
    }
   },
   "source": [
    "# Question 5.\n",
    "As in the previous Lesson, count the number of steps and time your merge_sort() function with the following input: `list_k = [i for i in range(100*k, 0, -1)] `, where $k= 1, 2, 3, …, 15 $. \n"
   ]
  },
  {
   "cell_type": "code",
   "execution_count": 83,
   "metadata": {
    "deletable": false,
    "nbgrader": {
     "checksum": "cc3f59157e795d05422e849f3e7cc03a",
     "grade": true,
     "grade_id": "cell-8a4233ab58d3d0bb",
     "locked": false,
     "points": 0,
     "schema_version": 1,
     "solution": true
    }
   },
   "outputs": [
    {
     "ename": "TypeError",
     "evalue": "unsupported operand type(s) for -: 'builtin_function_or_method' and 'builtin_function_or_method'",
     "output_type": "error",
     "traceback": [
      "\u001b[1;31m---------------------------------------------------------------------------\u001b[0m",
      "\u001b[1;31mTypeError\u001b[0m                                 Traceback (most recent call last)",
      "\u001b[1;32m<ipython-input-83-f0a8019b6d1a>\u001b[0m in \u001b[0;36m<module>\u001b[1;34m\u001b[0m\n\u001b[0;32m     76\u001b[0m \u001b[0mb\u001b[0m \u001b[1;33m=\u001b[0m \u001b[0mtime\u001b[0m\u001b[1;33m.\u001b[0m\u001b[0mtime\u001b[0m\u001b[1;33m\u001b[0m\u001b[0m\n\u001b[0;32m     77\u001b[0m \u001b[1;33m\u001b[0m\u001b[0m\n\u001b[1;32m---> 78\u001b[1;33m \u001b[0mprint\u001b[0m\u001b[1;33m(\u001b[0m\u001b[0mb\u001b[0m\u001b[1;33m-\u001b[0m\u001b[0ma\u001b[0m\u001b[1;33m)\u001b[0m\u001b[1;33m\u001b[0m\u001b[0m\n\u001b[0m\u001b[0;32m     79\u001b[0m \u001b[1;33m\u001b[0m\u001b[0m\n\u001b[0;32m     80\u001b[0m \u001b[1;33m\u001b[0m\u001b[0m\n",
      "\u001b[1;31mTypeError\u001b[0m: unsupported operand type(s) for -: 'builtin_function_or_method' and 'builtin_function_or_method'"
     ]
    }
   ],
   "source": [
    "import time \n",
    "\n",
    "def mergec(A, p, q, r):\n",
    "    \n",
    "    #defining the length of each sub-list\n",
    "    n1 = q-p+1\n",
    "    n2 = r-q\n",
    "    \n",
    "    countmc = 0\n",
    "    #defining new arrays\n",
    "    L=[0]* n1\n",
    "    R=[0]* n2\n",
    "    \n",
    "    #splitting the orginal set into two lists \n",
    "    #we can also use append to fill the empty sets as the orginal set already had two odered parts, but this would be a different method than the one in the book\n",
    "    for i in range(n1):\n",
    "        L[i]= A[p+i]\n",
    "        \n",
    "    for j in range(n2):\n",
    "        R[j]= A[q+j+1]   # I added the one here to make sure that the right list will start with the item after q till r\n",
    "\n",
    "     \n",
    "       \n",
    "    i= 0\n",
    "    j= 0\n",
    "    k= p\n",
    "    \n",
    "    #I suggested using while instead of for as this will make it easir for the iterations\n",
    "    \n",
    "    while i < len(L) and j < len(R): \n",
    "        if L[i] < R[j]: \n",
    "            A[k] = L[i] \n",
    "            i+=1\n",
    "        else: \n",
    "            A[k] = R[j] \n",
    "            j+=1\n",
    "        k+=1\n",
    "        countmc += 1\n",
    "        \n",
    "    while i < n1: \n",
    "        A[k] = L[i] \n",
    "        i += 1\n",
    "        k += 1\n",
    "        \n",
    "    while j < n2: \n",
    "        A[k] = R[j] \n",
    "        j += 1\n",
    "        k += 1\n",
    "        \n",
    "    return (countmc)\n",
    "    raise NotImplementedError()\n",
    "    \n",
    "\n",
    "\n",
    "\n",
    "\n",
    "\n",
    "def merge_sortc(A,p,r):\n",
    "    # YOUR CODE HERE\n",
    "    countm =0\n",
    "    if p < r:\n",
    "        countm +=1\n",
    "        q = (p+r)//2     \n",
    "        #the bug is here as for some values here q will be a float number not an integer which has no meaning as an index.\n",
    "        #thus, I replaced the devision sign with with a floor devision sign to always give us the nearst smallest integer \n",
    "        merge_sortc(A,p,q)\n",
    "        merge_sortc(A,q+1,r)\n",
    "        merge(A,p,q,r)\n",
    "    return(countm)\n",
    "    raise NotImplementedError()\n",
    "    \n",
    "a = time.time\n",
    "for k in range (1,16):\n",
    "    list_k = [i for i in range(100*k, 0, -1)]\n",
    "    var= merge_sort(list_k,0,(100*k-1))\n",
    "b = time.time\n",
    "\n",
    "print(b-a)\n",
    "    \n",
    "    \n",
    "\n",
    "count=[] \n",
    "countmc =[]\n",
    "for k in range (1,16):\n",
    "    list_k = [i for i in range(100*k, 0, -1)]\n",
    "    count.append(merge_sortc(list_k,0,(100*k-1)))\n",
    "    countmc.append(mergec(list_k,0,(100*k-1)//2,(100*k-1)))\n",
    "print (count) #count inside the mergesort functon\n",
    "print (countmc) #count inside the merge function\n"
   ]
  },
  {
   "cell_type": "markdown",
   "metadata": {},
   "source": [
    "# Question 6. \n",
    "Use the code you wrote for Lesson 1.2 (i.e., selection sort, bubble sort, insertion sort). Plot the following graphs:\n",
    "* **Graph 1**: 4 lines for **the number of steps** of each of the 4 sorting algorithms (i.e., selection sort, bubble sort, insertion sort, merge sort). Which algorithm performs best? Why? \n",
    "* **Graph 2**: 4 lines for **the timing** of each of the 4 sorting algorithms (i.e., selection sort, bubble sort, insertion sort, merge sort). Which algorithm performs best? Why?\n",
    "\n",
    "Using as many cells as you wish (code cells or markdown cells alike) to complete this question.\n"
   ]
  },
  {
   "cell_type": "code",
   "execution_count": 88,
   "metadata": {
    "deletable": false,
    "nbgrader": {
     "checksum": "0561f29260f91795736500d62066a4c7",
     "grade": true,
     "grade_id": "cell-d09efb7c7fe55e69",
     "locked": false,
     "points": 0,
     "schema_version": 1,
     "solution": true
    }
   },
   "outputs": [
    {
     "name": "stdout",
     "output_type": "stream",
     "text": [
      "<built-in function time>\n",
      "[9900, 39800, 89700, 159600, 249500, 359400, 489300, 639200, 809100, 999000, 1208900, 1438800, 1688700, 1958600, 2248500]\n"
     ]
    }
   ],
   "source": [
    "import time \n",
    "def bubbleSort(A):\n",
    "    counter = 0;\n",
    "    for i in range(len(A)-1):\n",
    "        for j in range(len(A)-1,i, -1):\n",
    "            if(A[j] < A[j-1]):\n",
    "                temp = A[j]\n",
    "                A[j] = A[j-1]\n",
    "                A[j-1] = temp\n",
    "                counter = counter + 1\n",
    "            counter = counter + 1\n",
    "    return counter\n",
    "    raise NotImplementedError()\n",
    "    \n",
    "bubblecount=[]\n",
    "a= time.time\n",
    "for k in range (1,16):\n",
    "    list_k = [i for i in range(100*k, 0, -1)]\n",
    "    bubblecount.append(bubbleSort(list_k))\n",
    "b= time.time\n",
    "print(b-a) #this line doesn't work, I don't know why. I imported time module, but still not working\n",
    "\n",
    "print (bubblecount)"
   ]
  },
  {
   "cell_type": "code",
   "execution_count": 89,
   "metadata": {},
   "outputs": [
    {
     "name": "stdout",
     "output_type": "stream",
     "text": [
      "[4950, 19900, 44850, 79800, 124750, 179700, 244650, 319600, 404550, 499500, 604450, 719400, 844350, 979300, 1124250]\n"
     ]
    }
   ],
   "source": [
    "def insertionSort(A):\n",
    "    counter = 0\n",
    "    for j in range(len(A)):\n",
    "        key = A[j]\n",
    "        i= j-1\n",
    "        while i >= 0 and A[i]>key:\n",
    "            A[i+1] = A[i]\n",
    "            i -= 1\n",
    "            counter = counter + 1\n",
    "        A[i+1] = key\n",
    "    return counter\n",
    "    raise NotImplementedError()\n",
    "\n",
    "insertcount=[]\n",
    "for k in range (1,16):\n",
    "    list_k = [i for i in range(100*k, 0, -1)]\n",
    "    insertcount.append(insertionSort(list_k))\n",
    "print (insertcount)"
   ]
  },
  {
   "cell_type": "code",
   "execution_count": 91,
   "metadata": {},
   "outputs": [
    {
     "name": "stdout",
     "output_type": "stream",
     "text": [
      "[4950, 19900, 44850, 79800, 124750, 179700, 244650, 319600, 404550, 499500, 604450, 719400, 844350, 979300, 1124250]\n"
     ]
    }
   ],
   "source": [
    "def selectionSort(A):\n",
    "    counter = 0\n",
    "    for i in range(len(A)-1):\n",
    "        minidx = i\n",
    "        for j in range(i+1,len(A)):\n",
    "            if(A[j]<A[minidx]):\n",
    "                minidx = j\n",
    "            counter = counter +1\n",
    "        temp = A[i]\n",
    "        A[i] = A[minidx]\n",
    "        A[minidx] = temp\n",
    "    return counter\n",
    "    raise NotImplementedError()\n",
    "\n",
    "selectcount=[]\n",
    "for k in range (1,16):\n",
    "    list_k = [i for i in range(100*k, 0, -1)]\n",
    "    selectcount.append(selectionSort(list_k))\n",
    "print (selectcount)"
   ]
  },
  {
   "cell_type": "code",
   "execution_count": 100,
   "metadata": {},
   "outputs": [
    {
     "data": {
      "image/png": "[encoded data removed]",
      "text/plain": [
       "<Figure size 432x288 with 1 Axes>"
      ]
     },
     "metadata": {
      "needs_background": "light"
     },
     "output_type": "display_data"
    }
   ],
   "source": [
    "import matplotlib.pyplot as plt\n",
    "%matplotlib inline \n",
    "\n",
    "plt.plot(selectcount)\n",
    "plt.plot(insertcount)\n",
    "plt.plot(bubblecount)\n",
    "#the bubblesort has the highest number of steps, while the selectionsort and insertionsort share the same number of steps. \n",
    "#the time function is not working, but I assume it will have a direct correlation with the graphs.\n",
    "\n",
    "plt.xlabel('x axis label')\n",
    "plt.ylabel('y axis label')\n",
    "plt.title('Pre-class plot')\n",
    "plt.show()"
   ]
  },
  {
   "cell_type": "code",
   "execution_count": null,
   "metadata": {},
   "outputs": [],
   "source": []
  }
 ],
 "metadata": {
  "kernelspec": {
   "display_name": "Python 3",
   "language": "python",
   "name": "python3"
  },
  "language_info": {
   "codemirror_mode": {
    "name": "ipython",
    "version": 3
   },
   "file_extension": ".py",
   "mimetype": "text/x-python",
   "name": "python",
   "nbconvert_exporter": "python",
   "pygments_lexer": "ipython3",
   "version": "3.7.0"
  }
 },
 "nbformat": 4,
 "nbformat_minor": 2
}
