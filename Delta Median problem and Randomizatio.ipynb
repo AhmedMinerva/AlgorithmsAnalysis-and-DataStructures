{
 "cells": [
  {
   "cell_type": "markdown",
   "metadata": {},
   "source": [
    "Before you turn this problem in, make sure everything runs as expected. First, **restart the kernel** (in the menubar, select Kernel$\\rightarrow$Restart) and then **run all cells** (in the menubar, select Cell$\\rightarrow$Run All).\n",
    "\n",
    "Make sure you fill in any place that says `YOUR CODE HERE` or \"YOUR ANSWER HERE\", as well as your name and collaborators below:"
   ]
  },
  {
   "cell_type": "code",
   "execution_count": null,
   "metadata": {},
   "outputs": [],
   "source": [
    "NAME = \"Ahmed\"\n",
    "COLLABORATORS = \"\""
   ]
  },
  {
   "cell_type": "markdown",
   "metadata": {},
   "source": [
    "---"
   ]
  },
  {
   "cell_type": "markdown",
   "metadata": {
    "deletable": false,
    "editable": false,
    "nbgrader": {
     "checksum": "69779d40de39e2fcb822ffd099ed946a",
     "grade": false,
     "grade_id": "cell-361a67c139252f60",
     "locked": true,
     "schema_version": 1,
     "solution": false
    }
   },
   "source": [
    "# CS110 Pre-class Work 5.1\n",
    "\n",
    "## Question 1.\n",
    "\n",
    "### Question 1a.\n",
    "\n",
    "Write the worst sort function in the world, `worst_sort`. This function takes a list, and then randomly shuffles it until it happens to be in sorted order. Once it is in sorted order then the list is returned.\n"
   ]
  },
  {
   "cell_type": "code",
   "execution_count": 1,
   "metadata": {
    "deletable": false,
    "nbgrader": {
     "checksum": "c144735a0a3c9ee1e5a60e781fec46a9",
     "grade": false,
     "grade_id": "cell-ead9c74054a1c5da",
     "locked": false,
     "schema_version": 1,
     "solution": true
    }
   },
   "outputs": [],
   "source": [
    "import numpy as np\n",
    "def worst_sort(A):\n",
    "    \"\"\"\n",
    "    Sort A in ascending order by randomly shuffling its \n",
    "    elements until they are in order.\n",
    "    \n",
    "    Input:\n",
    "    - A: list of numerical values\n",
    "    \n",
    "    Output:\n",
    "    - A: Sorted list\n",
    "    \"\"\"\n",
    "    # YOUR CODE HERE\n",
    "    np.random.shuffle(A)\n",
    "    for i in range(len(A)-1):\n",
    "        if A[i]> A[i+1]:\n",
    "            worst_sort(A)\n",
    "    return(A)\n",
    "    raise NotImplementedError()"
   ]
  },
  {
   "cell_type": "code",
   "execution_count": 3,
   "metadata": {},
   "outputs": [
    {
     "data": {
      "text/plain": [
       "[3, 4, 5, 6, 10, 48]"
      ]
     },
     "execution_count": 3,
     "metadata": {},
     "output_type": "execute_result"
    }
   ],
   "source": [
    "test=[5,3,4,6,10,48]\n",
    "worst_sort(test)"
   ]
  },
  {
   "cell_type": "code",
   "execution_count": null,
   "metadata": {
    "deletable": false,
    "editable": false,
    "nbgrader": {
     "checksum": "09c3f02f46b5ba86c3aa80498b9c8c34",
     "grade": true,
     "grade_id": "cell-ff4db3a3e8b04515",
     "locked": true,
     "points": 1,
     "schema_version": 1,
     "solution": false
    }
   },
   "outputs": [],
   "source": [
    "# Please ignore this cell. This cell is for us to implement the tests \n",
    "# to see if your code works properly. "
   ]
  },
  {
   "cell_type": "markdown",
   "metadata": {
    "deletable": false,
    "editable": false,
    "nbgrader": {
     "checksum": "18d2bd43c2db165cb6806cb1e14df4f1",
     "grade": false,
     "grade_id": "cell-3ffcfdae9ec3ea41",
     "locked": true,
     "schema_version": 1,
     "solution": false
    }
   },
   "source": [
    "### Question 1b.\n",
    "What is the best case complexity of this algorithm?"
   ]
  },
  {
   "cell_type": "markdown",
   "metadata": {
    "deletable": false,
    "nbgrader": {
     "checksum": "76bf94004078f73d21791758ac6db72b",
     "grade": true,
     "grade_id": "cell-afac80171b3b6232",
     "locked": false,
     "points": 0,
     "schema_version": 1,
     "solution": true
    }
   },
   "source": [
    "The best case complexity when the algorithm sorts the list from the first time using the shuffle function. In this case, no recursion will happen and the complexity will be theta(n)."
   ]
  },
  {
   "cell_type": "markdown",
   "metadata": {
    "deletable": false,
    "editable": false,
    "nbgrader": {
     "checksum": "1b1210d5a27f9933086d0f3a0d234361",
     "grade": false,
     "grade_id": "cell-d98018127b7e79f4",
     "locked": true,
     "schema_version": 1,
     "solution": false
    }
   },
   "source": [
    "### Question 1c.\n",
    "\n",
    "What is the average case complexity?\n"
   ]
  },
  {
   "cell_type": "markdown",
   "metadata": {
    "deletable": false,
    "nbgrader": {
     "checksum": "97d1e74314efdae93ea73d510e233468",
     "grade": true,
     "grade_id": "cell-9d52d34daa1e3478",
     "locked": false,
     "points": 0,
     "schema_version": 1,
     "solution": true
    }
   },
   "source": [
    "The worst case complexity is that the algorithm will run forever, assuming that random.shuffle is completly random. The average case is that the algorithm will run for certian time then it will reach to the sorted list. I think the average case complexity will be O(n^k), where k is the number of the shuffles."
   ]
  },
  {
   "cell_type": "markdown",
   "metadata": {
    "deletable": false,
    "editable": false,
    "nbgrader": {
     "checksum": "fdbf5403114d2a68085e8172d0122685",
     "grade": false,
     "grade_id": "cell-d6d8ad45088488eb",
     "locked": true,
     "schema_version": 1,
     "solution": false
    }
   },
   "source": [
    "### Question 1d.\n",
    "\n",
    "For what size lists is this a feasible method?"
   ]
  },
  {
   "cell_type": "markdown",
   "metadata": {
    "deletable": false,
    "nbgrader": {
     "checksum": "080a5eecbe3afcffed278b7cbba7f51a",
     "grade": true,
     "grade_id": "cell-ab40f08768579798",
     "locked": false,
     "points": 0,
     "schema_version": 1,
     "solution": true
    }
   },
   "source": [
    "The worst_sort algorithm is a feasible method for small lists as there is a higher probablity that shuffle function will generate a sorted list. I think a feasible size can be a list of 2 items where the list has 50% to be sorted in the right way. "
   ]
  },
  {
   "cell_type": "markdown",
   "metadata": {
    "deletable": false,
    "editable": false,
    "nbgrader": {
     "checksum": "cbe19c6348c19b5df04e84b537f6ebf0",
     "grade": false,
     "grade_id": "cell-56ae4e75a4086ee8",
     "locked": true,
     "schema_version": 1,
     "solution": false
    }
   },
   "source": [
    "### [Optional] Question 1e.\n",
    "\n",
    "Can you think of an even worse sorting method? In such a case, what would its complexity be? How big a list could you sort?"
   ]
  },
  {
   "cell_type": "markdown",
   "metadata": {
    "deletable": false,
    "nbgrader": {
     "checksum": "564b860df18fb1bb2fc987ec4240f98d",
     "grade": true,
     "grade_id": "cell-ac05806942341926",
     "locked": false,
     "points": 0,
     "schema_version": 1,
     "solution": true
    }
   },
   "source": [
    "A worse sorting method will be adding an additional sorting function like bubble sorting to compare the results from the random.suffle function. \n",
    "For example:\n",
    "    np.random.shuffle(A)\n",
    "    while A != bubblesort(A):\n",
    "       worst_sort(A)\n",
    "    return(A)\n",
    "\n",
    "In this case, the complexity can be O(n^2k) as the complexity for the bubble sort is already O(n^2). "
   ]
  },
  {
   "cell_type": "markdown",
   "metadata": {
    "deletable": false,
    "editable": false,
    "nbgrader": {
     "checksum": "c8d4696c279cfb37108a84fdde271057",
     "grade": false,
     "grade_id": "cell-16012d2af0ef00ec",
     "locked": true,
     "schema_version": 1,
     "solution": false
    }
   },
   "source": [
    "## Question 2.\n",
    "Approximate median finder. Given a list and δ (a number between 0 and 0.5), the approximate median finder function returns a number that is guaranteed to lie between the (50-δ/2)% and (50+δ/2)% percentiles. Implement such a function by randomly selecting an element from the list and testing whether or not it lies within the bounds. If it doesn’t then retry with a new random element, but only a limited number of retries are allowed (you decide the maximum number of retries.)\n",
    "\n",
    "### Question 2a.\n",
    "Complete the following function\n"
   ]
  },
  {
   "cell_type": "code",
   "execution_count": 5,
   "metadata": {},
   "outputs": [],
   "source": [
    "def selectionsort(A):\n",
    "    for i in range(len(A)-1):  \n",
    "        minidx = i \n",
    "        for j in range(i+1, len(A)): \n",
    "            if A[minidx] > A[j]: \n",
    "                minidx = j         \n",
    "        A[i], A[minidx] = A[minidx], A[i]\n",
    "    return A"
   ]
  },
  {
   "cell_type": "code",
   "execution_count": 78,
   "metadata": {
    "deletable": false,
    "nbgrader": {
     "checksum": "9ce93a3c3e022b8a93a85566123df36f",
     "grade": false,
     "grade_id": "cell-2ab65512a6148d3c",
     "locked": false,
     "schema_version": 1,
     "solution": true
    }
   },
   "outputs": [],
   "source": [
    "import math\n",
    "def check_approx_med(A, num, delta):\n",
    "    \"\"\"\n",
    "    Given a list and a number in a list, determine whether it is within (50-delta/2)% and \n",
    "    (50+delta/2)% percentiles.\n",
    "    X% percentile of a list is defined to be the smallest number in the list that is as large as at least\n",
    "    X% numbers in the list. \n",
    "    \n",
    "    Input:\n",
    "    - A: list of numerical values\n",
    "    - num: the number of interest\n",
    "    - delta: the error, lies between 0 and 0.5\n",
    "    \n",
    "    Output:\n",
    "    - isApproxMed: a boolean value indicating whether num is within the bound\n",
    "    \"\"\"\n",
    "    # YOUR CODE HERE\n",
    "    lbound = (50-delta/2)/100\n",
    "    Ubound= (50+delta/2)/100\n",
    "    AS=selectionsort(A)\n",
    "    lpercentile= math.ceil((len(A))*lbound)\n",
    "    Upercentile= math.ceil((len(A))*Ubound)\n",
    "    \n",
    "    if len(A)==1:\n",
    "        return False\n",
    "    elif (num>=AS[lpercentile-1] and num<=AS[Upercentile-1]):\n",
    "        return (True)\n",
    "    else:\n",
    "        return False\n",
    "    raise NotImplementedError()"
   ]
  },
  {
   "cell_type": "code",
   "execution_count": 80,
   "metadata": {},
   "outputs": [
    {
     "name": "stdout",
     "output_type": "stream",
     "text": [
      "True\n",
      "False\n",
      "True\n"
     ]
    }
   ],
   "source": [
    "test1=[0,1]\n",
    "test2=[0]\n",
    "[5,2,1,3,4]\n",
    "print (check_approx_med(test1,0,.25))\n",
    "print (check_approx_med(test2,0,.25))\n",
    "print (check_approx_med([5,2,1,3,4],3,.25))"
   ]
  },
  {
   "cell_type": "code",
   "execution_count": 16,
   "metadata": {
    "deletable": false,
    "editable": false,
    "nbgrader": {
     "checksum": "e36da35c2400ca389ff7bb609167a787",
     "grade": true,
     "grade_id": "cell-df56d7433abb6517",
     "locked": true,
     "points": 1,
     "schema_version": 1,
     "solution": false
    }
   },
   "outputs": [],
   "source": [
    "assert(check_approx_med([0,1], 0, .25) == True)\n",
    "assert(check_approx_med([0], 0, .25) == False)"
   ]
  },
  {
   "cell_type": "markdown",
   "metadata": {
    "deletable": false,
    "editable": false,
    "nbgrader": {
     "checksum": "ea4f76410780e7134e2bc46fbe5663e9",
     "grade": false,
     "grade_id": "cell-18a16dfd102f137c",
     "locked": true,
     "schema_version": 1,
     "solution": false
    }
   },
   "source": [
    "### Question 2b.\n",
    "Complete the following function that makes use of `check_approx_med` above.\n"
   ]
  },
  {
   "cell_type": "code",
   "execution_count": 81,
   "metadata": {
    "deletable": false,
    "nbgrader": {
     "checksum": "2b3cfdf82e0efce4078cc52b3680f7be",
     "grade": false,
     "grade_id": "cell-e19685b545147dde",
     "locked": false,
     "schema_version": 1,
     "solution": true
    }
   },
   "outputs": [],
   "source": [
    "import random\n",
    "def approx_med_finder(A, delta):\n",
    "    \"\"\"\n",
    "    Given a list, find a number in the list that is between 50-delta/2% and 50+delta/2% percentiles\n",
    "    \n",
    "    Input:\n",
    "    - A: list of numerical values\n",
    "    - delta: the error, lies between 0 and 0.5\n",
    "    \n",
    "    Output:\n",
    "    - num: the approximated median, if it is found within 100//delta trials (this is one possible \n",
    "    maximum number of retries. While you are encouraged to play around with another limits, the \n",
    "    submitted work must use this number.)\n",
    "    - None: finding failed, if nothing found within 100//delta trials\n",
    "\n",
    "    Note: the 100//delta is chosen here as it is the expected number of trials for the first successful finding to occur (using geometric distribution)\n",
    "    \"\"\"\n",
    "    # YOUR CODE HERE\n",
    "    for i in range(int(100//delta)): \n",
    "        num=random.choice(A)\n",
    "        if check_approx_med(A,num,delta):\n",
    "            return num\n",
    "    return print (\"finding failed, if nothing found within 100//delta trials\")\n",
    "    raise NotImplementedError()"
   ]
  },
  {
   "cell_type": "code",
   "execution_count": 85,
   "metadata": {},
   "outputs": [
    {
     "data": {
      "text/plain": [
       "6"
      ]
     },
     "execution_count": 85,
     "metadata": {},
     "output_type": "execute_result"
    }
   ],
   "source": [
    "test= [5,2,1,3,4]\n",
    "test2= [6,2,4,5,6,8,9,10]\n",
    "approx_med_finder(test,0.25)\n",
    "approx_med_finder(test2,0.25)"
   ]
  },
  {
   "cell_type": "markdown",
   "metadata": {
    "deletable": false,
    "editable": false,
    "nbgrader": {
     "checksum": "77b77f7047dea39f9b7526a785f0e652",
     "grade": false,
     "grade_id": "cell-1863e0846b176982",
     "locked": true,
     "schema_version": 1,
     "solution": false
    }
   },
   "source": [
    "### Question 2c.\n",
    "\n",
    "What is the probability of failure in each random trial? What is the probability of failure after all the allowed random trials? Does this scale with δ or N (the number of elements in a list)?\n"
   ]
  },
  {
   "cell_type": "markdown",
   "metadata": {
    "deletable": false,
    "nbgrader": {
     "checksum": "f7d6ed353a91d12d66b53a735d84f81b",
     "grade": true,
     "grade_id": "cell-efe7ab76f6a2546a",
     "locked": false,
     "points": 0,
     "schema_version": 1,
     "solution": true
    }
   },
   "source": [
    "The probability of success in each random trail is 1/n as we can have one median in each set. The probability of failur in each random trail will be (n-1)/n. After finishing all the allowed random trials, this mean that we have finished all the expected number of trials for the first successful finding to occur. Thus, the probability of failure will be approximatly near to 100%. The probability of failure in each random trial scale with N the number of elements in the list. However, the probability of failure after all the allowed random trials is indpendent to the δ value as it's the expected number of trails regardless the delta value."
   ]
  },
  {
   "cell_type": "markdown",
   "metadata": {
    "deletable": false,
    "editable": false,
    "nbgrader": {
     "checksum": "a602a3cad0ff35029b447d00dcee6b6c",
     "grade": false,
     "grade_id": "cell-a41fe377076cd283",
     "locked": true,
     "schema_version": 1,
     "solution": false
    }
   },
   "source": [
    "### Question 2d.\n",
    "Analyze the expected runtime of `approx_med_finder`. Note that because the function uses `check_approx_med`, you will most likely need to analyze the runtime of that function, too."
   ]
  },
  {
   "cell_type": "markdown",
   "metadata": {
    "deletable": false,
    "nbgrader": {
     "checksum": "255d88cf8e4f6ff8b3eb05cab2aa5f48",
     "grade": true,
     "grade_id": "cell-86b199798477fc2a",
     "locked": false,
     "points": 0,
     "schema_version": 1,
     "solution": true
    }
   },
   "source": [
    "The approx_med_finder has a for loop with range 100//delta, which means it will run 100//delta in its worst case of not finding the median. check_approx_med is a function of n as its complexity depends on n (number of items in the list). With the selection sort function in it, check_approx_med will have a complexity of O(n^2) as it will dominate the complexity. Thus, for both functions the approx_med_finder will be O(n^2) in its worst case. \n"
   ]
  },
  {
   "cell_type": "code",
   "execution_count": null,
   "metadata": {},
   "outputs": [],
   "source": []
  }
 ],
 "metadata": {
  "kernelspec": {
   "display_name": "Python 3",
   "language": "python",
   "name": "python3"
  },
  "language_info": {
   "codemirror_mode": {
    "name": "ipython",
    "version": 3
   },
   "file_extension": ".py",
   "mimetype": "text/x-python",
   "name": "python",
   "nbconvert_exporter": "python",
   "pygments_lexer": "ipython3",
   "version": "3.7.0"
  }
 },
 "nbformat": 4,
 "nbformat_minor": 2
}
