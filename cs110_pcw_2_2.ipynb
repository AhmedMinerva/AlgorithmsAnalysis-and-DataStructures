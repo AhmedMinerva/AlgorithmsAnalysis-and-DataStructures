{
 "cells": [
  {
   "cell_type": "markdown",
   "metadata": {},
   "source": [
    "Before you turn this problem in, make sure everything runs as expected. First, **restart the kernel** (in the menubar, select Kernel$\\rightarrow$Restart) and then **run all cells** (in the menubar, select Cell$\\rightarrow$Run All).\n",
    "\n",
    "Make sure you fill in any place that says `YOUR CODE HERE` or \"YOUR ANSWER HERE\", as well as your name and collaborators below:"
   ]
  },
  {
   "cell_type": "code",
   "execution_count": null,
   "metadata": {},
   "outputs": [],
   "source": [
    "NAME = \"Ahmed\"\n",
    "COLLABORATORS = \"\""
   ]
  },
  {
   "cell_type": "markdown",
   "metadata": {},
   "source": [
    "---"
   ]
  },
  {
   "cell_type": "markdown",
   "metadata": {
    "deletable": false,
    "editable": false,
    "nbgrader": {
     "checksum": "c650e4f3477fb1b0666f4f7d1d7cfd38",
     "grade": false,
     "grade_id": "cell-a415b724e36aa852",
     "locked": true,
     "schema_version": 1,
     "solution": false
    }
   },
   "source": [
    "# CS110 Pre-class Work 2.2\n",
    "\n",
    "## Question 1 (Exercise 3.1-3 of Cormen, et al. )\n",
    "Explain why the statement, \"The running time of algorithm A is at least $O(n^2)$,\" is meaningless.\n"
   ]
  },
  {
   "cell_type": "markdown",
   "metadata": {
    "deletable": false,
    "nbgrader": {
     "checksum": "d6f28cb6ab1a8f547f022f1932f609f9",
     "grade": true,
     "grade_id": "cell-437d61c1420d4f99",
     "locked": false,
     "points": 0,
     "schema_version": 1,
     "solution": true
    }
   },
   "source": [
    "We use O-notation to give an upper bound on a function, to within a constant factor. Thus, it's meaningless to use al least with the O-notation as it describe the upper bound of that algorithm (asymptotic upper bound).  "
   ]
  },
  {
   "cell_type": "markdown",
   "metadata": {
    "deletable": false,
    "editable": false,
    "nbgrader": {
     "checksum": "def6c9c9f606feea2e7a711e51c65304",
     "grade": false,
     "grade_id": "cell-7d82282e0c8a03e3",
     "locked": true,
     "schema_version": 1,
     "solution": false
    }
   },
   "source": [
    "## Question 2 (Exercise 3.1-4 of Cormen, et al. )\n",
    "\n",
    "Is $2^{n+1}=O(2^n)$? Is $2^{2n}=O(2^n)$?"
   ]
  },
  {
   "cell_type": "markdown",
   "metadata": {
    "deletable": false,
    "nbgrader": {
     "checksum": "9ea64ba2361ca4a6d09f468ddf82f39b",
     "grade": true,
     "grade_id": "cell-6a0c4ee19dadfddf",
     "locked": false,
     "points": 0,
     "schema_version": 1,
     "solution": true
    }
   },
   "source": [
    "The first part is possible as there is always f(n) =< cg(n) \n",
    "The second part is impossible as sometimes we can't achieve this condition where  f(n) =< cg(n) "
   ]
  },
  {
   "cell_type": "markdown",
   "metadata": {
    "deletable": false,
    "editable": false,
    "nbgrader": {
     "checksum": "b7ea4393551187246e7a7a7399d38250",
     "grade": false,
     "grade_id": "cell-e4fe88238c9e912a",
     "locked": true,
     "schema_version": 1,
     "solution": false
    }
   },
   "source": [
    "## Question 3.\n",
    "Write a function in Python that solves the maximum-subarray problem using a brute-force approach. Your Python function must:\n",
    "* Take as Input an array/list  of numbers\n",
    "* Produce the following Output: \n",
    "    * the start and end indices of the subarray containing the maximum sum.\n",
    "    * value of the maximum subarray (float)\n"
   ]
  },
  {
   "cell_type": "code",
   "execution_count": 7,
   "metadata": {
    "deletable": false,
    "nbgrader": {
     "checksum": "c98e89c42d52953c5e460a0126592e2a",
     "grade": false,
     "grade_id": "cell-527e6532d6992fd0",
     "locked": false,
     "schema_version": 1,
     "solution": true
    }
   },
   "outputs": [
    {
     "name": "stdout",
     "output_type": "stream",
     "text": [
      "True\n",
      "True\n"
     ]
    }
   ],
   "source": [
    "def bruteforce_max_subarray(A):\n",
    "    \"\"\"Implements brute-force maximum subarray finding.\n",
    "    \n",
    "    Inputs:\n",
    "    - A: a NON-EMPTY list of floats\n",
    "    \n",
    "    Outputs: A tuple of\n",
    "    - the start index of the max subarray\n",
    "    - the end index of the max subarray\n",
    "    - the value of the maximum subarray\n",
    "    \"\"\"\n",
    "    maxsum = -10000000000000  #setting a negative infinity number as the maximum sum to even consider the negative values in the market \n",
    "    sindex =0                 #initiating the start and the end indexes \n",
    "    eindex =0\n",
    "    \n",
    "    \n",
    "    #building two nexted loops to consider all the subarrays in the list \n",
    "    \n",
    "    for i in range(len(A)):\n",
    "        summ= 0\n",
    "        for j in range(len(A)):\n",
    "            if j >= i:\n",
    "                summ = summ + A[j]\n",
    "                if summ > maxsum:     #Saving only the maximum subarray from the two nested loops + saving the start and the end indexes of this list\n",
    "                    maxsum = summ\n",
    "                    sindex= i\n",
    "                    eindex= j\n",
    "            \n",
    "    return ((sindex,eindex,maxsum))  \n",
    "    raise NotImplementedError()\n",
    "\n",
    "    #testing the code and achieving the right expected values \n",
    "print(bruteforce_max_subarray([-2,1,-1,2,-5]) == (1, 3, 2))\n",
    "print(bruteforce_max_subarray([-2, -5, 6, -2, -3, 1, 5, -6]) == (2, 6, 7))    \n"
   ]
  },
  {
   "cell_type": "code",
   "execution_count": 6,
   "metadata": {
    "deletable": false,
    "editable": false,
    "nbgrader": {
     "checksum": "57ec4672631bc8d61833077d1977b3e3",
     "grade": true,
     "grade_id": "cell-a28a56466c9537ff",
     "locked": true,
     "points": 1,
     "schema_version": 1,
     "solution": false
    }
   },
   "outputs": [],
   "source": [
    "assert(bruteforce_max_subarray([-2,1,-1,2,-5]) == (1, 3, 2))\n",
    "assert(bruteforce_max_subarray([-2, -5, 6, -2, -3, 1, 5, -6]) == (2, 6, 7))"
   ]
  },
  {
   "cell_type": "code",
   "execution_count": null,
   "metadata": {},
   "outputs": [],
   "source": []
  },
  {
   "cell_type": "markdown",
   "metadata": {
    "deletable": false,
    "editable": false,
    "nbgrader": {
     "checksum": "8625e044853f9c85838ca9f6ca4db9c4",
     "grade": false,
     "grade_id": "cell-ba342b15913cb4d3",
     "locked": true,
     "schema_version": 1,
     "solution": false
    }
   },
   "source": [
    "## Question 4. \n",
    "Test your Python maximum-subarray function using the following input list (from Figure 4.3 of Cormen et al.):  \n",
    "`A = [13, -3, -25, 20, -3, -16, -23, 18, 20, -7, 12, -5, -22, 15, -4, 7] `\n",
    "\n",
    "If your Python implementation is correct, your code must return: \n",
    "* 43 - which is the answer to the maximum subarray problem, and \n",
    "* <7, 10> -the start and the end indices of the max subarray. \n",
    "\n"
   ]
  },
  {
   "cell_type": "code",
   "execution_count": 10,
   "metadata": {
    "deletable": false,
    "nbgrader": {
     "checksum": "9084301761509ba09820ee55035fd115",
     "grade": true,
     "grade_id": "cell-e4a632ce0edc1697",
     "locked": false,
     "points": 0,
     "schema_version": 1,
     "solution": true
    }
   },
   "outputs": [
    {
     "name": "stdout",
     "output_type": "stream",
     "text": [
      "(7, 10, 43)\n"
     ]
    },
    {
     "ename": "NotImplementedError",
     "evalue": "",
     "output_type": "error",
     "traceback": [
      "\u001b[1;31m---------------------------------------------------------------------------\u001b[0m",
      "\u001b[1;31mNotImplementedError\u001b[0m                       Traceback (most recent call last)",
      "\u001b[1;32m<ipython-input-10-bb7eed715753>\u001b[0m in \u001b[0;36m<module>\u001b[1;34m\u001b[0m\n\u001b[0;32m      2\u001b[0m \u001b[0mA\u001b[0m \u001b[1;33m=\u001b[0m \u001b[1;33m[\u001b[0m\u001b[1;36m13\u001b[0m\u001b[1;33m,\u001b[0m \u001b[1;33m-\u001b[0m\u001b[1;36m3\u001b[0m\u001b[1;33m,\u001b[0m \u001b[1;33m-\u001b[0m\u001b[1;36m25\u001b[0m\u001b[1;33m,\u001b[0m \u001b[1;36m20\u001b[0m\u001b[1;33m,\u001b[0m \u001b[1;33m-\u001b[0m\u001b[1;36m3\u001b[0m\u001b[1;33m,\u001b[0m \u001b[1;33m-\u001b[0m\u001b[1;36m16\u001b[0m\u001b[1;33m,\u001b[0m \u001b[1;33m-\u001b[0m\u001b[1;36m23\u001b[0m\u001b[1;33m,\u001b[0m \u001b[1;36m18\u001b[0m\u001b[1;33m,\u001b[0m \u001b[1;36m20\u001b[0m\u001b[1;33m,\u001b[0m \u001b[1;33m-\u001b[0m\u001b[1;36m7\u001b[0m\u001b[1;33m,\u001b[0m \u001b[1;36m12\u001b[0m\u001b[1;33m,\u001b[0m \u001b[1;33m-\u001b[0m\u001b[1;36m5\u001b[0m\u001b[1;33m,\u001b[0m \u001b[1;33m-\u001b[0m\u001b[1;36m22\u001b[0m\u001b[1;33m,\u001b[0m \u001b[1;36m15\u001b[0m\u001b[1;33m,\u001b[0m \u001b[1;33m-\u001b[0m\u001b[1;36m4\u001b[0m\u001b[1;33m,\u001b[0m \u001b[1;36m7\u001b[0m\u001b[1;33m]\u001b[0m\u001b[1;33m\u001b[0m\u001b[0m\n\u001b[0;32m      3\u001b[0m \u001b[0mprint\u001b[0m \u001b[1;33m(\u001b[0m\u001b[0mbruteforce_max_subarray\u001b[0m\u001b[1;33m(\u001b[0m\u001b[0mA\u001b[0m\u001b[1;33m)\u001b[0m\u001b[1;33m)\u001b[0m\u001b[1;33m\u001b[0m\u001b[0m\n\u001b[1;32m----> 4\u001b[1;33m \u001b[1;32mraise\u001b[0m \u001b[0mNotImplementedError\u001b[0m\u001b[1;33m(\u001b[0m\u001b[1;33m)\u001b[0m\u001b[1;33m\u001b[0m\u001b[0m\n\u001b[0m",
      "\u001b[1;31mNotImplementedError\u001b[0m: "
     ]
    }
   ],
   "source": [
    "# YOUR CODE HERE\n",
    "A = [13, -3, -25, 20, -3, -16, -23, 18, 20, -7, 12, -5, -22, 15, -4, 7]\n",
    "print (bruteforce_max_subarray(A)) #the code worked perfectly :) \n",
    "raise NotImplementedError()"
   ]
  },
  {
   "cell_type": "markdown",
   "metadata": {
    "deletable": false,
    "editable": false,
    "nbgrader": {
     "checksum": "e99f275368a5231d3692d72e62ad372d",
     "grade": false,
     "grade_id": "cell-345f6f0bc7b4e001",
     "locked": true,
     "schema_version": 1,
     "solution": false
    }
   },
   "source": [
    "## Question 5. Asymptotic notation. \n",
    "Complete the following table using the asymptotic notation that best describes the problem. For example, if both $O(n^3)$ and $O(n)$ are possible for an algorithm, the answer is $O(n)$ because the function $f(n) = O(n)$ provides a tighter and more accurate fit; if both $O(n)$ and $\\Theta(n)$ are possible, the correct answer is $\\Theta(n)$ because $\\Theta(n)$ provides both information about the upper and lower bound, thus it is more accurate than $O(n)$.\n",
    "\n",
    "You should copy the following table and paste and edit it in the cell below. \n",
    "\n",
    "Algorithm | Big Oh ($O$) | Big Theta ($\\Theta$)\n",
    "--- | --- | ---\n",
    "Insertion sort |  |\n",
    "Selection sort |  |\n",
    "Bubble sort |  | \n",
    "Finding maximum subarray |  |"
   ]
  },
  {
   "cell_type": "markdown",
   "metadata": {
    "deletable": false,
    "nbgrader": {
     "checksum": "6a2e8546bb697eda40015086f8405788",
     "grade": true,
     "grade_id": "cell-247c51df276b622e",
     "locked": false,
     "points": 0,
     "schema_version": 1,
     "solution": true
    }
   },
   "source": [
    "YOUR ANSWER HERE\n",
    "\n",
    "Algorithm | Big Oh ($O$) | Big Theta ($\\Theta$)\n",
    "--- | --- | ---\n",
    "Insertion sort | $O$(n^2)  | $\\Theta$(n^2)\n",
    "Selection sort | $O$(n^2) | $\\Theta$(n^2)\n",
    "Bubble sort | $O$(n^2) | $\\Theta$(n^2)\n",
    "Finding maximum subarray (Brute Force) | $O$(n^2)  |  $\\Theta$(n^2)\n",
    "Merge sort | $O$ nlog(n) | $\\Theta$ nlog(n)\n",
    "\n",
    "\n",
    "**Finding maximum subarray (Brute Force) can be $O$(n^3) depends on how many nested loops do we have in the code**"
   ]
  },
  {
   "cell_type": "markdown",
   "metadata": {
    "deletable": false,
    "editable": false,
    "nbgrader": {
     "checksum": "033981aff08a9064f5553137db1a4841",
     "grade": false,
     "grade_id": "cell-9e53f43b4530cd79",
     "locked": true,
     "schema_version": 1,
     "solution": false
    }
   },
   "source": [
    "## [Optional] Question 6. \n",
    "How can you change this code to make it find the minimum-subarray?"
   ]
  },
  {
   "cell_type": "code",
   "execution_count": 12,
   "metadata": {
    "deletable": false,
    "nbgrader": {
     "checksum": "462bcec4b06cc6fbda0e34c29e30b1fb",
     "grade": false,
     "grade_id": "cell-f4553f71858d1bc4",
     "locked": false,
     "schema_version": 1,
     "solution": true
    }
   },
   "outputs": [
    {
     "name": "stdout",
     "output_type": "stream",
     "text": [
      "(0, 4, -5)\n",
      "(0, 1, -7)\n",
      "True\n",
      "True\n"
     ]
    }
   ],
   "source": [
    "def bruteforce_min_subarray(A):\n",
    "    \"\"\"Implements brute-force maximum subarray finding.\n",
    "    \n",
    "    Inputs:\n",
    "    - A: a NON-EMPTY list of floats\n",
    "    \n",
    "    Outputs: A tuple of\n",
    "    - the start index of the max subarray\n",
    "    - the end index of the max subarray\n",
    "    - the value of the maximum subarray\n",
    "    \"\"\"\n",
    "    minsum = 10000000000000  #setting a positive infinity number as the maximum sum to even consider the negative values in the market \n",
    "    sindex =0                 #initiating the start and the end indexes \n",
    "    eindex =0\n",
    "    \n",
    "    \n",
    "    #building two nexted loops to consider all the subarrays in the list \n",
    "    \n",
    "    for i in range(len(A)):\n",
    "        summ= 0\n",
    "        for j in range(len(A)):\n",
    "            if j >= i:\n",
    "                summ = summ + A[j]\n",
    "                if summ < minsum:     #Saving only the minimum subarray from the two nested loops + saving the start and the end indexes of this list\n",
    "                    minsum = summ\n",
    "                    sindex= i\n",
    "                    eindex= j\n",
    "            \n",
    "    return ((sindex,eindex,minsum))  \n",
    "    raise NotImplementedError()\n",
    "\n",
    "    #testing the code and achieving the right expected values \n",
    "print(bruteforce_min_subarray([-2,1,-1,2,-5]))\n",
    "print(bruteforce_min_subarray([-2, -5, 6, -2, -3, 1, 5, -6]))  \n",
    "print(bruteforce_min_subarray([1]*10)[0] == bruteforce_min_subarray([1]*10)[1])\n",
    "print(bruteforce_min_subarray([1]*10)[2] == 1)\n",
    "\n",
    "# The code worked just right :))) \n"
   ]
  },
  {
   "cell_type": "code",
   "execution_count": null,
   "metadata": {
    "deletable": false,
    "editable": false,
    "nbgrader": {
     "checksum": "70322c36cf22b5f720e6c338f08925c2",
     "grade": true,
     "grade_id": "cell-4263c7494a5f09d3",
     "locked": true,
     "points": 0,
     "schema_version": 1,
     "solution": false
    }
   },
   "outputs": [],
   "source": [
    "assert(bruteforce_min_subarray([1]*10)[0] == bruteforce_min_subarray([1]*10)[1])\n",
    "assert(bruteforce_min_subarray([1]*10)[2] == 1)"
   ]
  }
 ],
 "metadata": {
  "kernelspec": {
   "display_name": "Python 3",
   "language": "python",
   "name": "python3"
  },
  "language_info": {
   "codemirror_mode": {
    "name": "ipython",
    "version": 3
   },
   "file_extension": ".py",
   "mimetype": "text/x-python",
   "name": "python",
   "nbconvert_exporter": "python",
   "pygments_lexer": "ipython3",
   "version": "3.7.0"
  }
 },
 "nbformat": 4,
 "nbformat_minor": 2
}
