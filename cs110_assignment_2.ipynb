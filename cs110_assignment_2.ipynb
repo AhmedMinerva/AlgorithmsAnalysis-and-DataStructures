{
 "cells": [
  {
   "cell_type": "markdown",
   "metadata": {},
   "source": [
    "# **Task1**"
   ]
  },
  {
   "cell_type": "markdown",
   "metadata": {},
   "source": [
    "![sort](task1.jpg)"
   ]
  },
  {
   "cell_type": "markdown",
   "metadata": {},
   "source": [
    "Link for the pic if it didnt work:\n",
    "https://drive.google.com/file/d/17SJrJNYXsHhIGTishglLSTZDsLg3h7VP/view?usp=sharing"
   ]
  },
  {
   "cell_type": "markdown",
   "metadata": {},
   "source": [
    "# **Task2-Counting Bloom Filter**"
   ]
  },
  {
   "cell_type": "markdown",
   "metadata": {},
   "source": [
    "**Introduction**\n",
    "\n",
    "Before discussing Counting Bloom Filters, we need to understand first the standard Bloom Filter data structure and how CBF extends it in some properties. Bloom Filter is a space-efficient probabilistic data structure that tests element's membership for a specific set, then return \"possibly a member of the set\" or \"not a member of the set.\" With its probabilistic nature, BF allows false-positive matches where it may return that an element is in the set, but in reality, it's not. \n",
    "\n",
    "Instead of testing for the element membership, CBF tests if the count number of an element is smaller than its specific threshold in a given set. CPF either returns that the count number \"might be equal to or bigger than the threshold\" or \"is 100% smaller than the threshold.\"\n",
    "\n",
    "**Basic Operations**\n",
    "\n",
    "**Initialization:**\n",
    "CBF starts with an empty bloom filter array with m number of counters, all set to zero. CPF has a k-number of hash functions that maps the inputted elements to different counters. Similar to the standard BF, k and m are determined to achieve the desirable false positive rate in the set. \n",
    "\n",
    "**Inserting:**\n",
    "All elements need to be passed through k-number of hash functions. Hash functions hash/map each element to specific counter positions to be incremented by 1.\n",
    "\n",
    "**Searching:**\n",
    "To look-up for an element in a list, pass it in all k-number of hash functions, which output the counter positions to search in them.\n",
    "a. If ALL outputted counters are bigger than or equal to the element's threshold, then the count is EITHER  bigger than or equal to the theta, OR  a false positive where the element count is smaller than the threshold.\n",
    "b. If ANY outputted counters are less than the element's threshold, then the count number of the inputted element is DEFINITELY less than the threshold.\n",
    "\n",
    "**Removing:**\n",
    "Unlike the standard BF that doesn't allow removing elements, CBF allows removing elements from the list by decrementing the elements' associated counters. However, due to the probabilistic nature of BF of false positive, we can delete elements that were never added into the filter. \n",
    "\n",
    "**Computational Applications**\n",
    "\n",
    "As an extension to the Bloom Filter, CBF is useful in most of the standard BF computational applications and more. With its improved insertion and deletion qualities, CBF can work with dynamic sets that can be frequently updated by the user.\n",
    "\n",
    "With its efficient way of filtering lists and querying for elements, CBFs is used to filter users' login information on different websites. When a  user enters his/her account information, CBFs can verify if the account exists in the database or not. If the information doesn't exist, then the user is asked to enter a valid account or create a new one (insertion property). If there is a possibility that the account exists, the user is asked to provide further information like a password to verify the existence of the account and reduce the chance for false positive.\n",
    "\n",
    "CBFs are used for improving large-scale data processing for dynamic sets. Instead of storing the actual data, CBFs hash them and start doing basic operations of look-ups and insertion for keys instead of the data.\n",
    "\n",
    "CBFs can be used for movies and stories recommendation as in Netflix. CBFs can look-up for movies that the user has watched more than a  specific theta, or can filter some movies that users don't frequently open or watch.\n",
    "\n",
    "Search Engine can use CBFs to check if a particular website exists in the database or not, or even use it to determine websites with frequent visits bigger than or equal to theta. CBFs outperform BFs here as it allows the search engine to update or delete items from the list."
   ]
  },
  {
   "cell_type": "markdown",
   "metadata": {},
   "source": [
    "# **Task3-CBF Python Implementation**"
   ]
  },
  {
   "cell_type": "code",
   "execution_count": 1,
   "metadata": {},
   "outputs": [],
   "source": [
    "import math \n",
    "import mmh3 \n",
    "import numpy as np\n",
    "import scipy as sp\n",
    "import scipy.stats as sts\n",
    "import matplotlib.pyplot as plt\n",
    "%matplotlib inline\n",
    "\n",
    "\n",
    "class CBF:\n",
    "         \n",
    "#According to the Wikipedia site, the length of the bit array m can \n",
    "#be calculated from the user desirable false positive probability. \n",
    "#Thus, I am using the standard BF's rules of calculating m for my class\n",
    "#I have also specified a function at the end to calculate the real\n",
    "#false positive probability for CBF based on m,n,k calculated from the user input.\n",
    "\n",
    "\n",
    "    def __init__(self, n, p, theta):\n",
    "    \n",
    "        m= int(-(n * math.log(p))/(math.log(2)**2))  \n",
    "        k= int((m/n)*math.log(2))\n",
    "              \n",
    "        self.threshold=theta\n",
    "        self.length=m\n",
    "        self.element_number = n\n",
    "        self.hash_number = k\n",
    "#intializing a list of counters \n",
    "        self.count_list = [0]*m  \n",
    "#a list to check if there are elements in the index-position or it's empty \n",
    "        self.binary_list = [0]*m \n",
    "        \n",
    "    def insert(self, item):\n",
    "        for i in range(self.hash_number):\n",
    "#using mmh3 as hash function and % by m of the list to find the right index\n",
    "            ind = mmh3.hash(item, i) % self.length\n",
    "#incrementing the count list by 1,while setting the binary list to 1 all the time \n",
    "#if the list index position contains element at any time\n",
    "            self.count_list[ind] += 1\n",
    "            self.binary_list[ind] = 1  \n",
    "            \n",
    "            \n",
    "    def search(self, item):\n",
    "        for i in range(self.hash_number):\n",
    "            ind = mmh3.hash(item, i) % self.length \n",
    "#if the index position is empty return false\n",
    "#if the index position is full but with less count number than threshold\n",
    "#return false too. \n",
    "            if (self.binary_list[ind]==0):\n",
    "                return False\n",
    "            if (self.binary_list[ind]==1) and (self.count_list[ind] < self.threshold):\n",
    "                return False\n",
    "        return True\n",
    "    \n",
    "    def delete(self, item):\n",
    "        for i in range(self.hash_number):\n",
    "            ind = mmh3.hash(item, i) % self.length\n",
    "#if the index position is not empty, decrement 1\n",
    "            if self.binary_list[ind]> 0:\n",
    "                self.count_list[ind] -= 1\n",
    "            else:\n",
    "                print(\"the item doesn't exist in the list\")\n",
    "\n",
    "#Here, I used the Wikipedia equation of calculating the false positive prob for CBF\n",
    "#This is the FP probability that CBF should achieve if all the parameters are right\n",
    "#and the hashtables are independent and uniform. \n",
    "    def CBF_prob(self):\n",
    "        binomial_sum=0\n",
    "        for i in range(self.threshold):\n",
    "            binomial_sum = sts.binom.pmf(i, self.hash_number*self.element_number, (1/self.length))\n",
    "        prob= (1-binomial_sum)**self.hash_number\n",
    "        return round(prob,2)"
   ]
  },
  {
   "cell_type": "markdown",
   "metadata": {},
   "source": [
    "Proper implementation of CBF needs to have independent and uniformly distributed hash functions to make insertion uniform and random. We want our hash functions to minimize collisions as possible and distribute n over m in a uniform way. The best approach to decide which hash function to use is to test:\n",
    "\n",
    "1- The hashing speed by creating random inputs and comparing the hashing speed of these functions.\n",
    "\n",
    "2- Using basic statistics to calculate the distribution of items in the list with each hash function. \n",
    "\n",
    "Likely, Hannes-k did these tests on github document to conclude that \"cryptographic hash functions offer the most consistent uniform distribution but are slightly more expensive to compute, and the best compromise between speed and uniformity is Murmur 3 hash function.\"\n",
    "\n",
    "For this assignment, I have used an already built python hash function that was designed for general hash-based look-up based on multiply and rotate operations. For every k-hash function, I changed the seed for mmh3 to get consistent hash functions for my algorithm."
   ]
  },
  {
   "cell_type": "markdown",
   "metadata": {},
   "source": [
    "https://github.com/Baqend/Orestes-Bloomfilter#hash-functions\n",
    "![table](table.jpg)"
   ]
  },
  {
   "cell_type": "markdown",
   "metadata": {},
   "source": [
    "Link for the pic if it didnt work:\n",
    "https://drive.google.com/file/d/18vzVFj-OpJvS5m2YgtImjRMlabMTdZmj/view?usp=sharing"
   ]
  },
  {
   "cell_type": "code",
   "execution_count": 2,
   "metadata": {},
   "outputs": [
    {
     "name": "stdout",
     "output_type": "stream",
     "text": [
      "The size of the bit array: 62\n",
      "Number of hash functions: 4\n",
      "CBF Real False Prob= 0.05\n",
      "shallot is possibly present\n",
      "black  is not present\n",
      "red  is not present\n",
      "broccoflower is possibly present\n",
      "endive is possibly present\n",
      "broccoli  is possibly present\n",
      "purple  is not present\n",
      "cabbage is possibly present\n",
      "green  is not present\n",
      "onion is possibly present\n",
      "oregano is possibly present\n",
      "brown  is not present\n",
      "blue  is not present\n",
      "lime  is not present\n",
      "broccoli is possibly present\n",
      "cabbage is possibly present\n",
      "khaki  is not present\n",
      "white  is not present\n",
      "yellow  is not present\n",
      "parsley is possibly present\n"
     ]
    }
   ],
   "source": [
    "#Test_Code with theta 1\n",
    "from random import shuffle \n",
    "\n",
    "n = 10 #no of items to add \n",
    "p = 0.05 #false positive probability \n",
    "theta=1 #threshold\n",
    "\n",
    "\n",
    "countbf = CBF(n,p,theta) \n",
    "print(\"The size of the bit array:\", countbf.length) \n",
    "print(\"Number of hash functions:\",countbf.hash_number) \n",
    "print(\"CBF Real False Prob=\",countbf.CBF_prob())\n",
    "\n",
    "\n",
    "\n",
    "word_added = ['broccoflower','broccoli ','broccoli','cabbage', 'cabbage',\n",
    "              'onion','shallot','parsley','endive','oregano'] \n",
    "\n",
    "\n",
    "not_word_added  = ['white','yellow','blue','red','green', \n",
    "                   'black','brown','purple','lime','khaki'] \n",
    "\n",
    "#insert_items\n",
    "for item in word_added: \n",
    "    countbf.insert(item) \n",
    "\n",
    "\n",
    "all_words = word_added + not_word_added \n",
    "shuffle(all_words)\n",
    "\n",
    "for i in all_words: \n",
    "    if countbf.search(i): \n",
    "        if i in not_word_added: \n",
    "            print(i,\"is a false positive\") \n",
    "        else: \n",
    "            print(i,\"is possibly present\") \n",
    "    else: \n",
    "        print(i,\" is not present\") "
   ]
  },
  {
   "cell_type": "markdown",
   "metadata": {},
   "source": [
    "\"brown\" word is a false positive in this case. The other results normally reflect the properties of the bloom filter. "
   ]
  },
  {
   "cell_type": "code",
   "execution_count": 3,
   "metadata": {},
   "outputs": [
    {
     "name": "stdout",
     "output_type": "stream",
     "text": [
      "The size of the bit array: 62\n",
      "Number of hash functions: 4\n",
      "CBF Real False Prob= 0.19\n",
      "yellow  has count number definitely less than θ\n",
      "oregano  has count number definitely less than θ\n",
      "cabbage probably has a counter greater or equal to θ.\n",
      "white  has count number definitely less than θ\n",
      "blue  has count number definitely less than θ\n",
      "shallot  has count number definitely less than θ\n",
      "green  has count number definitely less than θ\n",
      "khaki  has count number definitely less than θ\n",
      "lime  has count number definitely less than θ\n",
      "broccoli  has count number definitely less than θ\n",
      "onion  has count number definitely less than θ\n",
      "purple  has count number definitely less than θ\n",
      "red  has count number definitely less than θ\n",
      "brown  has count number definitely less than θ\n",
      "black  has count number definitely less than θ\n",
      "broccoli   has count number definitely less than θ\n",
      "broccoflower  has count number definitely less than θ\n",
      "cabbage probably has a counter greater or equal to θ.\n",
      "parsley  has count number definitely less than θ\n",
      "endive  has count number definitely less than θ\n"
     ]
    }
   ],
   "source": [
    "#Test_Code with theta 2\n",
    "from random import shuffle \n",
    "\n",
    "n = 10 #no of items to add \n",
    "p = 0.05 #false positive probability \n",
    "theta=2 #threshold\n",
    "\n",
    "\n",
    "countbf = CBF(n,p,theta) \n",
    "print(\"The size of the bit array:\", countbf.length) \n",
    "print(\"Number of hash functions:\",countbf.hash_number) \n",
    "print(\"CBF Real False Prob=\",countbf.CBF_prob())\n",
    "\n",
    "\n",
    "\n",
    "word_added = ['broccoflower','broccoli ','broccoli','cabbage', 'cabbage',\n",
    "              'onion','shallot','parsley','endive','oregano'] \n",
    "\n",
    "\n",
    "not_word_added  = ['white','yellow','blue','red','green', \n",
    "                   'black','brown','purple','lime','khaki'] \n",
    "\n",
    "\n",
    "\n",
    "all_words = word_added + not_word_added \n",
    "shuffle(all_words)\n",
    "\n",
    "for item in word_added: \n",
    "    countbf.insert(item) \n",
    "\n",
    "\n",
    "for i in all_words: \n",
    "    if countbf.search(i): \n",
    "        if i in not_word_added: \n",
    "            print(i,\"is a false positive\") \n",
    "        else: \n",
    "            print(i,\"probably has a counter greater or equal to θ.\") \n",
    "    else: \n",
    "        print(i,\" has count number definitely less than θ\") "
   ]
  },
  {
   "cell_type": "markdown",
   "metadata": {},
   "source": [
    "Search function in CBF tests whether the count number of a word is smaller than theta. As I fixed the theta to 2, any word with less than two will have a false in the search function with a messege of \"count number of element is definitely less than θ\""
   ]
  },
  {
   "cell_type": "code",
   "execution_count": 4,
   "metadata": {},
   "outputs": [
    {
     "name": "stdout",
     "output_type": "stream",
     "text": [
      "cabbage probably has a counter greater or equal to θ.\n",
      "cabbage probably has a counter greater or equal to θ.\n"
     ]
    }
   ],
   "source": [
    "#testing the delete function, which have deleted the \n",
    "#word 'cabbage' in the second example\n",
    "\n",
    "countbf.insert('cabbage')\n",
    "if countbf.search('cabbage'):\n",
    "    print(\"cabbage\",\"probably has a counter greater or equal to θ.\")\n",
    "else:\n",
    "    print(\"cabbage\",\" has count number definitely less than θ\") \n",
    "    \n",
    "countbf.delete('cabbage')\n",
    "if countbf.search('cabbage'):\n",
    "    print(\"cabbage\",\"probably has a counter greater or equal to θ.\")\n",
    "else:\n",
    "    print(\"cabbage\",\" has count number definitely less than θ\") "
   ]
  },
  {
   "cell_type": "markdown",
   "metadata": {},
   "source": [
    "# **Task4.1 CBF Theoretical Analysis**"
   ]
  },
  {
   "cell_type": "markdown",
   "metadata": {},
   "source": [
    "![table](pic1.JPG)"
   ]
  },
  {
   "cell_type": "markdown",
   "metadata": {},
   "source": [
    "![table](pic2.JPG)"
   ]
  },
  {
   "cell_type": "markdown",
   "metadata": {},
   "source": [
    "link for the analysis if it didn't work:\n",
    "https://drive.google.com/file/d/17JkfXzmRUVAI3H5ukonuf2B_z_lcJyfU/view?usp=sharing\n",
    "https://drive.google.com/file/d/17pEGWyWTCCw8aREfFCDUkxjVOYTueobr/view?usp=sharing"
   ]
  },
  {
   "cell_type": "markdown",
   "metadata": {},
   "source": [
    "# **Task4.2 CBF Experimental Analysis**"
   ]
  },
  {
   "cell_type": "code",
   "execution_count": 5,
   "metadata": {},
   "outputs": [
    {
     "data": {
      "image/png": "[encoded data removed]",
      "text/plain": [
       "<Figure size 432x288 with 1 Axes>"
      ]
     },
     "metadata": {
      "needs_background": "light"
     },
     "output_type": "display_data"
    }
   ],
   "source": [
    "#Memory size as a function of the false-positive rate# \n",
    "\n",
    "prop_storage=[]\n",
    "length_storage=[]\n",
    "CBF_prop_storage=[]\n",
    "for i in range(1,21):\n",
    "    theta=1\n",
    "    n = 100 #no of items to add \n",
    "    p= i * 0.05\n",
    "    countbf= CBF(n,p,theta)\n",
    "    prop_storage.append(p)\n",
    "    length_storage.append(countbf.length)\n",
    "\n",
    "\n",
    "fig, ax = plt.subplots()\n",
    "ax.plot(prop_storage,length_storage, label=\"M for BF\")\n",
    "ax.set_xlabel('False-positive rate')\n",
    "ax.set_ylabel('Memory size')\n",
    "ax.set_title('Memory size as a function of the false-positive rate')\n",
    "\n",
    "leg = ax.legend();"
   ]
  },
  {
   "cell_type": "code",
   "execution_count": 6,
   "metadata": {},
   "outputs": [
    {
     "data": {
      "image/png": "[encoded data removed]",
      "text/plain": [
       "<Figure size 432x288 with 1 Axes>"
      ]
     },
     "metadata": {
      "needs_background": "light"
     },
     "output_type": "display_data"
    }
   ],
   "source": [
    "#Memory size as a function of the number of items stored#\n",
    "\n",
    "\n",
    "itemn_storage=[]\n",
    "length_storage=[]\n",
    "for i in range(1,10):\n",
    "    theta=1\n",
    "    n = 100*i\n",
    "    p= 0.05\n",
    "    countbf= CBF(n,p,theta)\n",
    "    itemn_storage.append(n)\n",
    "    length_storage.append(countbf.length)\n",
    "\n",
    "\n",
    "fig, ax = plt.subplots()\n",
    "ax.plot(itemn_storage,length_storage, label=\"M for BF\")\n",
    "ax.set_xlabel('Number of item stored')\n",
    "ax.set_ylabel('Number of items stored')\n",
    "ax.set_title('Memory size as a function of the number of items stored')\n",
    "\n",
    "leg = ax.legend();"
   ]
  },
  {
   "cell_type": "code",
   "execution_count": 7,
   "metadata": {},
   "outputs": [],
   "source": [
    "#a function for creating random numbers \n",
    "import random\n",
    "import string\n",
    "def randomword(length):\n",
    "    return ''.join(random.choice(string.ascii_lowercase) for i in range(length))"
   ]
  },
  {
   "cell_type": "code",
   "execution_count": 8,
   "metadata": {},
   "outputs": [
    {
     "data": {
      "image/png": "[encoded data removed]",
      "text/plain": [
       "<Figure size 432x288 with 1 Axes>"
      ]
     },
     "metadata": {
      "needs_background": "light"
     },
     "output_type": "display_data"
    }
   ],
   "source": [
    "##Access time as a function of the false-positive rate.\n",
    "#it depends on number of k used in my algorithm \n",
    "\n",
    "import time\n",
    "storage=[]\n",
    "runtime=[]\n",
    "prop_storage=[]\n",
    "\n",
    "for i in range(100):\n",
    "    s = randomword(5)\n",
    "    storage.append(s)\n",
    "    \n",
    "    \n",
    "for i in range(1,21):\n",
    "    p=0.05*i\n",
    "    prop_storage.append(p)\n",
    "    countbf= CBF(100,p,1)\n",
    "    for item in storage:\n",
    "        countbf.insert(item)\n",
    "    a= time.time()\n",
    "    for item in storage:\n",
    "        countbf.search(item)\n",
    "    b= time.time()\n",
    "    runtime.append(round(b-a, 5))\n",
    "                    \n",
    "fig, ax = plt.subplots()                    \n",
    "ax.plot(prop_storage,runtime, label=\"Time for BF\")\n",
    "\n",
    "ax.set_xlabel('The false-positive rate')\n",
    "ax.set_ylabel('Access time')\n",
    "ax.set_title('Access time as a function of the false-positive rate')\n",
    "\n",
    "leg = ax.legend();"
   ]
  },
  {
   "cell_type": "code",
   "execution_count": 9,
   "metadata": {},
   "outputs": [
    {
     "data": {
      "image/png": "[encoded data removed]",
      "text/plain": [
       "<Figure size 432x288 with 1 Axes>"
      ]
     },
     "metadata": {
      "needs_background": "light"
     },
     "output_type": "display_data"
    }
   ],
   "source": [
    "#Access time as a function of the number of items stored: \n",
    "##it depends on number of k used in my algorithm \n",
    "\n",
    "import time\n",
    "storage=[]\n",
    "runtime1=[]\n",
    "length_storage=[]\n",
    "\n",
    "for i in range(100):\n",
    "    s = randomword(5)\n",
    "    storage.append(s)\n",
    "    \n",
    "    \n",
    "for i in range(1,10):\n",
    "    n=100*i\n",
    "    length_storage.append(n)\n",
    "    countbf= CBF(n,0.05,1)\n",
    "    for item in storage:\n",
    "        countbf.insert(item)\n",
    "    a= time.time()\n",
    "    for item in storage:\n",
    "        countbf.search(item)\n",
    "    b= time.time()\n",
    "    runtime1.append(round(b-a, 5))\n",
    "                    \n",
    "fig, ax = plt.subplots()                    \n",
    "ax.plot(length_storage,runtime1, label=\"Time for BF\")\n",
    "ax.set_xlabel('The number of items stored')\n",
    "ax.set_ylabel('Access time')\n",
    "ax.set_title('Access time as a function of the number of items stored')\n",
    "\n",
    "leg = ax.legend();"
   ]
  },
  {
   "cell_type": "markdown",
   "metadata": {},
   "source": [
    "# **Task5**"
   ]
  },
  {
   "cell_type": "code",
   "execution_count": 10,
   "metadata": {},
   "outputs": [
    {
     "data": {
      "image/png": "[encoded data removed]",
      "text/plain": [
       "<Figure size 432x288 with 1 Axes>"
      ]
     },
     "metadata": {
      "needs_background": "light"
     },
     "output_type": "display_data"
    }
   ],
   "source": [
    "from random import shuffle \n",
    "\n",
    "added_word=[]\n",
    "not_added_word=[]\n",
    "prop_storage=[]\n",
    "for i in range(10000):\n",
    "    s = randomword(5)\n",
    "    added_word.append(s)\n",
    "    \n",
    "for i in range(10000):\n",
    "    s = randomword(5)\n",
    "    not_added_word.append(s)\n",
    "\n",
    "shuffle(added_word)\n",
    "shuffle(not_added_word)\n",
    "all_words = added_word + not_added_word\n",
    "shuffle(all_words)\n",
    "\n",
    "\n",
    "fp_list=[]\n",
    "fn_list=[]\n",
    "length_storage=[]\n",
    "for i in range(1,21):\n",
    "    fp_count=0   #false positive rate\n",
    "    fn_count=0   #fasle negative rate\n",
    "    \n",
    "    p=0.05*i\n",
    "    prop_storage.append(p)\n",
    "    countbf= CBF(10000,p,1)\n",
    "    \n",
    "    for item in added_word:\n",
    "        countbf.insert(item)\n",
    "    \n",
    "    for i in all_words: \n",
    "        if countbf.search(i): \n",
    "            if i in not_added_word: \n",
    "                fp_count+=1 \n",
    "    else: \n",
    "        if i in added_word: \n",
    "            fn_count+=1\n",
    "    fp_list.append(fp_count/10000)\n",
    "    fn_list.append(fn_count/10000)\n",
    "    length_storage.append(countbf.length)\n",
    "fig, ax = plt.subplots()                    \n",
    "ax.plot(length_storage,fp_list, label=\"FP Experimental rate\")\n",
    "ax.plot(length_storage,prop_storage, label=\"FP Theoretically rate\")\n",
    "ax.plot(length_storage,fn_list, label=\"FN rate\")\n",
    "\n",
    "ax.set_xlabel('Memory size')\n",
    "ax.set_ylabel('FP User Inputed Rate')\n",
    "ax.set_title('FP Theoretically rate VS FP experimental rate')\n",
    "\n",
    "leg = ax.legend();"
   ]
  },
  {
   "cell_type": "markdown",
   "metadata": {},
   "source": [
    "According to the graph, the FP Experimental rate matches the FP Theoretically rate for false-positive values smaller than 50%. As we increase the required FP to be more than 50%, we see that Experimental FP tends to be higher than the theoretical one and goes faster to produce a list with all false positive numbers.\n",
    "\n",
    "In my opinion, this is because the Counting Bloom Filter doesn't have the optimal hash function that distributes all items uniformly and avoid collisions. Also, this happens due to the difficulty of choosing an array-size m that match the inputted p-value."
   ]
  },
  {
   "cell_type": "markdown",
   "metadata": {},
   "source": [
    "# **Task6**"
   ]
  },
  {
   "cell_type": "markdown",
   "metadata": {},
   "source": [
    "According to the graph from Task 5, I can see that the algorithm tends to give higher False Positive rates compared to the theoretical one when we increase the FP inputted rate. I think this is due that my hash functions don't produce a 100% uniform distribution to decrease the collision rate. \n",
    "\n",
    "Also, I am assuming that the algorithm will give errors or produce inaccurate results when we increase the theta value. The reason behind that is that I am calculating the size of the array and the number of hash functions (m,k) using the equations of the standard bloom filter, not CBF, which can produce some errors in the extreme cases. \n",
    "\n",
    "To solve the problem and produce a better algorithm for all extreme cases, \n",
    "\n",
    "1- I can build a uniform and independent set of hash functions to minimize collisions as possible.\n",
    "\n",
    "2- I can use computational tools to solve the equation between the probability of false-positive and the size of the array in the CBF algorithm. This method can help in choosing the optimal number of hash functions for any input to avoid collisions."
   ]
  },
  {
   "cell_type": "markdown",
   "metadata": {},
   "source": [
    "**Appendix**\n",
    "\n",
    "audience: In the assignment, I put in my mind that I am talking to audiences that have experts and a general audience from the world-wide community. I believe I deserve a 4 as I  accurately used my knowledge of the general audiences' perspective to tailor my message and explanation in a subtle and sophisticated manner. I tailed my introduction to look like a Wikipedia page with specific sections and easy to understand explanations. I used simple examples to make it easy for the user to understand and visualize the concept of bloom filters in everyday uses. \n",
    "\n",
    "\n",
    "organization: I organized my written communication using an easy to understand organizational structure to deliver my message to my desired audience. I organized my code by having clear sections with comments, and I also used object-oriented programming to make it easier for the user to understand the concept behind bloom filters. I have also used latex to formulate the equations in analyzing and scaling the algorithm section to make it easier for the general user to read. \n",
    "\n",
    "\n",
    "critique: I have used critique in every part of the assignment. I have critiqued my way of writing in task2 and needed to go and read a couple of Wikipedia pages to be able to tail my explanation to the general audience. I have critiqued my implementation of CBF and wrote a function to calculate the real PF-rate only to compare it with my results and work on improving them. I also had critiqued my way of calculating the length of the array using the FP-probability rate and decided to use the equation from the standard BF to calculate the size length of CBF when I didn't find extreme differences that can affect my code results. I find critique an HC that I am frequently using to iterate my work and make it better and easier to read and reproduce. "
   ]
  },
  {
   "cell_type": "markdown",
   "metadata": {},
   "source": [
    "**References**\n",
    "\n",
    "BBaqend. (n.d.). Baqend/Orestes-Bloomfilter. Retrieved from https://github.com/Baqend/Orestes-Bloomfilter#hash-functions.Bitly.\n",
    "\n",
    "(2016, February 11). bitly/dablooms. Retrieved from https://github.com/bitly/dablooms.Bloom \n",
    "\n",
    "filter. (2019, November 2). Retrieved from https://en.wikipedia.org/wiki/Bloom_filter.Bloom\n",
    "\n",
    "Filters - Introduction and Python Implementation. (2018, February 8). Retrieved from https://www.geeksforgeeks.org/bloom-filters-introduction-and-python-implementation/.Counting\n",
    "\n",
    "Bloom filter. (2019, July 29). Retrieved from https://en.wikipedia.org/wiki/Counting_Bloom_filter.Kim,\n",
    "\n",
    "Kibeom, Jeong, Yongjo, Lee, Youngjoo, … Sunggu. (2019, July 11). Analysis of Counting Bloom Filters Used for Count Thresholding. Retrieved from https://www.mdpi.com/2079-9292/8/7/779/htm#B6-electronics-08-00779.Li,\n",
    "\n",
    "Wei, Huang, Kun, Zhang, Dafang, … Zheng. (2013, July 29). Accurate Counting Bloom Filters for Large-Scale Data Processing. Retrieved from https://www.hindawi.com/journals/mpe/2013/516298/."
   ]
  }
 ],
 "metadata": {
  "kernelspec": {
   "display_name": "Python 3",
   "language": "python",
   "name": "python3"
  },
  "language_info": {
   "codemirror_mode": {
    "name": "ipython",
    "version": 3
   },
   "file_extension": ".py",
   "mimetype": "text/x-python",
   "name": "python",
   "nbconvert_exporter": "python",
   "pygments_lexer": "ipython3",
   "version": "3.7.0"
  }
 },
 "nbformat": 4,
 "nbformat_minor": 2
}
