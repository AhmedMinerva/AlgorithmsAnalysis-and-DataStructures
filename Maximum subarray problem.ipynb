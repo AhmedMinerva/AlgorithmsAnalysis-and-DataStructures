{
 "cells": [
  {
   "cell_type": "markdown",
   "metadata": {},
   "source": [
    "Before you turn this problem in, make sure everything runs as expected. First, **restart the kernel** (in the menubar, select Kernel$\\rightarrow$Restart) and then **run all cells** (in the menubar, select Cell$\\rightarrow$Run All).\n",
    "\n",
    "Make sure you fill in any place that says `YOUR CODE HERE` or \"YOUR ANSWER HERE\", as well as your name and collaborators below:"
   ]
  },
  {
   "cell_type": "code",
   "execution_count": null,
   "metadata": {},
   "outputs": [],
   "source": [
    "NAME = \"Ahmed\"\n",
    "COLLABORATORS = \"\""
   ]
  },
  {
   "cell_type": "markdown",
   "metadata": {},
   "source": [
    "---"
   ]
  },
  {
   "cell_type": "markdown",
   "metadata": {
    "deletable": false,
    "editable": false,
    "nbgrader": {
     "checksum": "6eb33d4bbb91bdad042e00eb02fae1ad",
     "grade": false,
     "grade_id": "cell-f941f4ddd5e342f7",
     "locked": true,
     "schema_version": 1,
     "solution": false
    }
   },
   "source": [
    "# CS110 Pre-class Work 3.1\n",
    "\n",
    "## Question 1. \n",
    "Paste in your Python implementation of the maximum subarray from the previous class in the cell below and use that to find out the value of the maximum subarray of this array: `A = [-2, -3, 4, -1, -2, 1]`"
   ]
  },
  {
   "cell_type": "code",
   "execution_count": 3,
   "metadata": {
    "deletable": false,
    "nbgrader": {
     "checksum": "6c4991e90ad8cdfb8cf42529b7e5edd6",
     "grade": true,
     "grade_id": "cell-e69c8bbcd40ca242",
     "locked": false,
     "points": 0,
     "schema_version": 1,
     "solution": true
    }
   },
   "outputs": [
    {
     "name": "stdout",
     "output_type": "stream",
     "text": [
      "(2, 2, 4)\n"
     ]
    }
   ],
   "source": [
    "# YOUR CODE HERE\n",
    "A = [-2, -3, 4, -1, -2, 1]\n",
    "def bruteforce_max_subarray(A):\n",
    "    \"\"\"Implements brute-force maximum subarray finding.\n",
    "    \n",
    "    Inputs:\n",
    "    - A: a NON-EMPTY list of floats\n",
    "    \n",
    "    Outputs: A tuple of\n",
    "    - the start index of the max subarray\n",
    "    - the end index of the max subarray\n",
    "    - the value of the maximum subarray\n",
    "    \"\"\"\n",
    "    maxsum = -float(\"inf\")  #setting a negative infinity number as the maximum sum to even consider the negative values in the market \n",
    "    sindex =0                 #initiating the start and the end indexes \n",
    "    eindex =0\n",
    "    \n",
    "    \n",
    "    #building two nexted loops to consider all the subarrays in the list \n",
    "    \n",
    "    for i in range(len(A)):\n",
    "        summ= 0\n",
    "        for j in range(len(A)):\n",
    "            if j >= i:\n",
    "                summ = summ + A[j]\n",
    "                if summ > maxsum:     #Saving only the maximum subarray from the two nested loops + saving the start and the end indexes of this list\n",
    "                    maxsum = summ\n",
    "                    sindex= i\n",
    "                    eindex= j\n",
    "            \n",
    "    return ((sindex,eindex,maxsum))  \n",
    "    raise NotImplementedError()\n",
    "print (bruteforce_max_subarray(A))\n"
   ]
  },
  {
   "cell_type": "markdown",
   "metadata": {
    "deletable": false,
    "editable": false,
    "nbgrader": {
     "checksum": "676f4558ca97298a50665d2b57563a54",
     "grade": false,
     "grade_id": "cell-6b2d39096ef80c67",
     "locked": true,
     "schema_version": 1,
     "solution": false
    }
   },
   "source": [
    "## Question 2. \n",
    "Now, your friend Joe comes and appends a single extra number at the end of the array, which becomes:  `B = [-2, -3, 4, -1, -2, 1, 8]`. Do you have to re-run the entire maximum subarray again? Explain your answer. \n",
    "The subsequent questions will help you figure out an efficient algorithmic strategy to address the last question, but make sure to write your explanation above first, before answering the remaining questions.\n"
   ]
  },
  {
   "cell_type": "markdown",
   "metadata": {
    "deletable": false,
    "nbgrader": {
     "checksum": "b848c0f0fa07252cc99055a801b12e47",
     "grade": true,
     "grade_id": "cell-d4b7cd845c816263",
     "locked": false,
     "points": 0,
     "schema_version": 1,
     "solution": true
    }
   },
   "source": [
    "YOUR ANSWER HERE\n",
    "Based on the algorithm, we already saved the maximum subarray and the indexes for the start and the end of it. So, I think there is a way to compare these numbers with the new added extra number in the array instead of re-running the entire code. "
   ]
  },
  {
   "cell_type": "markdown",
   "metadata": {
    "deletable": false,
    "editable": false,
    "nbgrader": {
     "checksum": "055be509a3fd9e61e64a6572949aa994",
     "grade": false,
     "grade_id": "cell-7280eecbaa455be1",
     "locked": true,
     "schema_version": 1,
     "solution": false
    }
   },
   "source": [
    "## Question 3. \n",
    "\n",
    "**Determine if the following statement is True or False and explain your answer.**\n",
    "If the maximum subarray of the array A is different than the maximum subarray of the array B (questions 1 and 2), the new maximum-subarray doesn’t need to include 8 (i.e., the newly appended element). \n"
   ]
  },
  {
   "cell_type": "markdown",
   "metadata": {
    "deletable": false,
    "nbgrader": {
     "checksum": "2b29f3c119737d73a7578e00d43972a4",
     "grade": true,
     "grade_id": "cell-9377964a8756f13b",
     "locked": false,
     "points": 0,
     "schema_version": 1,
     "solution": true
    }
   },
   "source": [
    "The statement is FALSE\n",
    "The algorithm works based on comparing the maximum sum of each subarray in the list. If the maximum subarry in B was different than the maximum subarry in A, then there is must be a number that was added in the list to change that. In other words, the newly appended element must be the reason to change the find a new maximum subarray. "
   ]
  },
  {
   "cell_type": "markdown",
   "metadata": {
    "deletable": false,
    "editable": false,
    "nbgrader": {
     "checksum": "461bf61cb22c2304f3988c6f34a901e8",
     "grade": false,
     "grade_id": "cell-e7cc711ccdade69f",
     "locked": true,
     "schema_version": 1,
     "solution": false
    }
   },
   "source": [
    "## Question 4.\n",
    "Complete the Python function `incremental_max_subarray(x, mx)` in the cell below.\n",
    "\n",
    "This [video](https://www.youtube.com/watch?v=AAgErqQmwmA&list=PLF_a-qBXTGFektoI6JUOTRL36JlvD04BR&index=4&t=0s)  might be helpful to understand the `incremental_max_subarray` problem."
   ]
  },
  {
   "cell_type": "code",
   "execution_count": 6,
   "metadata": {
    "deletable": false,
    "nbgrader": {
     "checksum": "ac3f0799ce4ff7159403a97b99cbb5bd",
     "grade": false,
     "grade_id": "cell-0230e459f3d701f8",
     "locked": false,
     "schema_version": 1,
     "solution": true
    }
   },
   "outputs": [
    {
     "name": "stdout",
     "output_type": "stream",
     "text": [
      "True\n",
      "10\n"
     ]
    }
   ],
   "source": [
    "B = [-2, -3, 4, -1, -2, 1, 8]\n",
    "def incremental_max_subarray(x, mx):\n",
    "    \"\"\" \n",
    "    Inputs:\n",
    "    - x: a NON-EMPTY list of numbers (e.g., the array B in the first two questions above). \n",
    "        * If x has 1 element: returns the value of the element regardless of the value of mx\n",
    "    - mx: the maximum subarray of x excluding its last element (i.e., compute the \n",
    "    maximum subarray of the input array x considering only its first len(x) - 1 elements)\n",
    "    \n",
    "    Output: The maximum subarray of the array x.\n",
    "    \n",
    "    For example, using the array B in question 2, the result of incremental_max_subarray(B, 4) \n",
    "    is 10 (10 = 8 + 1 - 2 -1 + 4). \n",
    "    \"\"\"\n",
    "    # YOUR CODE HERE\n",
    "    nsum = 0  #Creating a storage for the sum of each subarray starting with the last item in the list\n",
    "    for i in range( len(x) - 1, -1, -1):   #iterating backwards and putting the range from the last index to 0. *Put -1 as the last element in range is not included\n",
    "        nsum = nsum + x[i]                 #Calculating the sum for each subarray that does include 8\n",
    "        if nsum > mx:                      #Comparing all the new sum of the new subarray to the maximum subarray and saving the ones with the highest sum\n",
    "            mx = nsum\n",
    "    return (mx)                            #returing the maximum sum of the whole array\n",
    "    raise NotImplementedError()\n",
    "print(incremental_max_subarray(B, 4) == 10)\n",
    "print(incremental_max_subarray(B, 4))"
   ]
  },
  {
   "cell_type": "code",
   "execution_count": null,
   "metadata": {
    "deletable": false,
    "editable": false,
    "nbgrader": {
     "checksum": "70a3880be02d6f703dfa95229957e71f",
     "grade": true,
     "grade_id": "cell-9abf19e56620ffa3",
     "locked": true,
     "points": 1,
     "schema_version": 1,
     "solution": false
    }
   },
   "outputs": [],
   "source": [
    "B = [-2, -3, 4, -1, -2, 1, 8]\n",
    "assert(incremental_max_subarray(B, 4) == 10)\n",
    "assert(incremental_max_subarray(B[:1], 0) == B[0])"
   ]
  },
  {
   "cell_type": "markdown",
   "metadata": {
    "deletable": false,
    "nbgrader": {
     "checksum": "278d2e7036e916ce0fafffdd0c237584",
     "grade": true,
     "grade_id": "cell-bacebe71191cbd0f",
     "locked": false,
     "points": 0,
     "schema_version": 1,
     "solution": true
    }
   },
   "source": [
    "YOUR ANSWER HERE"
   ]
  },
  {
   "cell_type": "code",
   "execution_count": 19,
   "metadata": {
    "deletable": false,
    "nbgrader": {
     "checksum": "d9cdd0a60c40e487e87d79d21915e36b",
     "grade": false,
     "grade_id": "cell-fd96d4ccccd99fe6",
     "locked": false,
     "schema_version": 1,
     "solution": true
    }
   },
   "outputs": [
    {
     "name": "stdout",
     "output_type": "stream",
     "text": [
      "4\n",
      "10\n",
      "10.7\n"
     ]
    }
   ],
   "source": [
    "C = [-2.0, -3.0, 4.7, -1.0, -2.5, 1.0, 8.5]\n",
    "def max_subarray(A):\n",
    "    \"\"\"\n",
    "    Using `incremental_max_subarray` iteratively on A to produce the value of the maximum\n",
    "    subarray of A.\n",
    "    \n",
    "    Inputs:\n",
    "    - A: a NON-EMPTY list of floats\n",
    "    \n",
    "    Outputs: flaot, the sum of the maximum subarray of A\n",
    "    \"\"\"\n",
    "    # YOUR CODE HERE\n",
    "    maxsum= -float(\"inf\")   #Setting the sum of the maximum subarray to be -inf so we can all sums that are bigger than this\n",
    "    length= len(A)\n",
    "    for i in range(length): #iterating through the orginal loop \n",
    "        incremental_max_subarray(A, maxsum) #With each iteration we find the maximum subarray that includes the last number in the list\n",
    "        maxsum=incremental_max_subarray(A, maxsum) #saving the maximum sum and then we will later compare it with other sums inside the incremental function to find the global maximum subarray\n",
    "        A=A[0:-1]                           #we change the list and ignore the last number in it because we already found the maximum sum of any subarray that has this number\n",
    "    return(maxsum)    \n",
    "    raise NotImplementedError()\n",
    "print(max_subarray(A))\n",
    "print(max_subarray(B))\n",
    "print(max_subarray(C))"
   ]
  },
  {
   "cell_type": "code",
   "execution_count": null,
   "metadata": {
    "deletable": false,
    "editable": false,
    "nbgrader": {
     "checksum": "74149a9559625383203ec1320bff5558",
     "grade": true,
     "grade_id": "cell-669ad779766aa2c3",
     "locked": true,
     "points": 1,
     "schema_version": 1,
     "solution": false
    }
   },
   "outputs": [],
   "source": [
    "# Please ignore this cell. This cell is for us to implement the tests \n",
    "# to see if your code works properly. "
   ]
  },
  {
   "cell_type": "code",
   "execution_count": 15,
   "metadata": {},
   "outputs": [
    {
     "name": "stdout",
     "output_type": "stream",
     "text": [
      "[]\n",
      "[-2, -3, 4, -1, -2]\n",
      "[-2, -3, 4, -1]\n",
      "[-2, -3, 4]\n",
      "[-2, -3]\n",
      "[-2]\n"
     ]
    }
   ],
   "source": [
    "for i in range(len(A)):\n",
    "    print(A[0:-i])"
   ]
  },
  {
   "cell_type": "markdown",
   "metadata": {
    "deletable": false,
    "editable": false,
    "nbgrader": {
     "checksum": "03054d2ff22ec9310060ab534208ec0d",
     "grade": false,
     "grade_id": "cell-ae966fc92d098939",
     "locked": true,
     "schema_version": 1,
     "solution": false
    }
   },
   "source": [
    "### Part 2.\n",
    "Is this more efficient than the divide-and-conquer approach? Explain."
   ]
  },
  {
   "cell_type": "markdown",
   "metadata": {
    "deletable": false,
    "nbgrader": {
     "checksum": "69eb86a7f05367f6396017910664f67d",
     "grade": true,
     "grade_id": "cell-cd8f0b130a7136db",
     "locked": false,
     "points": 0,
     "schema_version": 1,
     "solution": true
    }
   },
   "source": [
    "The solution for the recurrence tree in the divide and conquer method is T(n)= theta(nlog(n)).\n",
    "From my understanding of this method, the T(n) = theta (n^2) as it has two loops inside of it. \n",
    "Thus, I will say that the divide-and-conquer approach yields an algorithm that is asymptotically faster than the incremental_max_subarray method. (Logarithmic functions are better than quadratic functions)"
   ]
  }
 ],
 "metadata": {
  "kernelspec": {
   "display_name": "Python 3",
   "language": "python",
   "name": "python3"
  },
  "language_info": {
   "codemirror_mode": {
    "name": "ipython",
    "version": 3
   },
   "file_extension": ".py",
   "mimetype": "text/x-python",
   "name": "python",
   "nbconvert_exporter": "python",
   "pygments_lexer": "ipython3",
   "version": "3.7.0"
  }
 },
 "nbformat": 4,
 "nbformat_minor": 2
}
